{
 "cells": [
  {
   "cell_type": "code",
   "execution_count": 3,
   "metadata": {},
   "outputs": [],
   "source": [
    "# from xerparser.reader import Reader\n",
    "import pandas as pd\n",
    "import numpy as np\n",
    "from icecream import ic"
   ]
  },
  {
   "cell_type": "markdown",
   "metadata": {},
   "source": [
    "# Other Sheets\n"
   ]
  },
  {
   "cell_type": "code",
   "execution_count": 1,
   "metadata": {},
   "outputs": [],
   "source": [
    "PATH = \"../../Documents/cee240_p6/CEE240F22_A.xlsx\"\n"
   ]
  },
  {
   "cell_type": "code",
   "execution_count": 6,
   "metadata": {},
   "outputs": [
    {
     "name": "stderr",
     "output_type": "stream",
     "text": [
      "/Users/julietnwagwuume-ezeoke/CEE240local/cee240env/lib/python3.9/site-packages/openpyxl/styles/stylesheet.py:226: UserWarning: Workbook contains no default style, apply openpyxl's default\n",
      "  warn(\"Workbook contains no default style, apply openpyxl's default\")\n"
     ]
    },
    {
     "data": {
      "text/html": [
       "<div>\n",
       "<style scoped>\n",
       "    .dataframe tbody tr th:only-of-type {\n",
       "        vertical-align: middle;\n",
       "    }\n",
       "\n",
       "    .dataframe tbody tr th {\n",
       "        vertical-align: top;\n",
       "    }\n",
       "\n",
       "    .dataframe thead th {\n",
       "        text-align: right;\n",
       "    }\n",
       "</style>\n",
       "<table border=\"1\" class=\"dataframe\">\n",
       "  <thead>\n",
       "    <tr style=\"text-align: right;\">\n",
       "      <th></th>\n",
       "      <th>pred_task_id</th>\n",
       "      <th>task_id</th>\n",
       "      <th>pred_type</th>\n",
       "      <th>PREDTASK__status_code</th>\n",
       "      <th>TASK__status_code</th>\n",
       "      <th>pred_proj_id</th>\n",
       "      <th>proj_id</th>\n",
       "      <th>predtask__projwbs__wbs_full_name</th>\n",
       "      <th>task__projwbs__wbs_full_name</th>\n",
       "      <th>predtask__task_name</th>\n",
       "      <th>task__task_name</th>\n",
       "      <th>delete_record_flag</th>\n",
       "    </tr>\n",
       "  </thead>\n",
       "  <tbody>\n",
       "    <tr>\n",
       "      <th>0</th>\n",
       "      <td>Predecessor</td>\n",
       "      <td>Successor</td>\n",
       "      <td>Relationship Type</td>\n",
       "      <td>(*)Predecessor Activity Status</td>\n",
       "      <td>(*)Successor Activity Status</td>\n",
       "      <td>(*)Predecessor Project</td>\n",
       "      <td>(*)Successor Project</td>\n",
       "      <td>(*)Predecessor WBS</td>\n",
       "      <td>(*)Successor WBS</td>\n",
       "      <td>(*)Predecessor Activity Name</td>\n",
       "      <td>(*)Successor Activity Name</td>\n",
       "      <td>Delete This Row</td>\n",
       "    </tr>\n",
       "    <tr>\n",
       "      <th>1</th>\n",
       "      <td>P1B1000</td>\n",
       "      <td>P1B1010</td>\n",
       "      <td>FS</td>\n",
       "      <td>Not Started</td>\n",
       "      <td>Not Started</td>\n",
       "      <td>CEE240F22</td>\n",
       "      <td>CEE240F22</td>\n",
       "      <td>CEE240F22.Inc01 Increment01</td>\n",
       "      <td>CEE240F22.Inc01 Increment01</td>\n",
       "      <td>NTP</td>\n",
       "      <td>submit shut down request for facilities</td>\n",
       "      <td>NaN</td>\n",
       "    </tr>\n",
       "    <tr>\n",
       "      <th>2</th>\n",
       "      <td>P1B1010</td>\n",
       "      <td>P1B1020</td>\n",
       "      <td>FS</td>\n",
       "      <td>Not Started</td>\n",
       "      <td>Not Started</td>\n",
       "      <td>CEE240F22</td>\n",
       "      <td>CEE240F22</td>\n",
       "      <td>CEE240F22.Inc01 Increment01</td>\n",
       "      <td>CEE240F22.Inc01 Increment01</td>\n",
       "      <td>submit shut down request for facilities</td>\n",
       "      <td>demo ceilings  GL 6.5, M.4</td>\n",
       "      <td>NaN</td>\n",
       "    </tr>\n",
       "  </tbody>\n",
       "</table>\n",
       "</div>"
      ],
      "text/plain": [
       "  pred_task_id    task_id          pred_type           PREDTASK__status_code  \\\n",
       "0  Predecessor  Successor  Relationship Type  (*)Predecessor Activity Status   \n",
       "1      P1B1000    P1B1010                 FS                     Not Started   \n",
       "2      P1B1010    P1B1020                 FS                     Not Started   \n",
       "\n",
       "              TASK__status_code            pred_proj_id               proj_id  \\\n",
       "0  (*)Successor Activity Status  (*)Predecessor Project  (*)Successor Project   \n",
       "1                   Not Started               CEE240F22             CEE240F22   \n",
       "2                   Not Started               CEE240F22             CEE240F22   \n",
       "\n",
       "  predtask__projwbs__wbs_full_name task__projwbs__wbs_full_name  \\\n",
       "0               (*)Predecessor WBS             (*)Successor WBS   \n",
       "1      CEE240F22.Inc01 Increment01  CEE240F22.Inc01 Increment01   \n",
       "2      CEE240F22.Inc01 Increment01  CEE240F22.Inc01 Increment01   \n",
       "\n",
       "                       predtask__task_name  \\\n",
       "0             (*)Predecessor Activity Name   \n",
       "1                                      NTP   \n",
       "2  submit shut down request for facilities   \n",
       "\n",
       "                           task__task_name delete_record_flag  \n",
       "0               (*)Successor Activity Name    Delete This Row  \n",
       "1  submit shut down request for facilities                NaN  \n",
       "2               demo ceilings  GL 6.5, M.4                NaN  "
      ]
     },
     "execution_count": 6,
     "metadata": {},
     "output_type": "execute_result"
    }
   ],
   "source": [
    "df01 = pd.read_excel(PATH, sheet_name=1, engine=\"openpyxl\" )\n",
    "df01.head(3)"
   ]
  },
  {
   "cell_type": "code",
   "execution_count": 5,
   "metadata": {},
   "outputs": [
    {
     "name": "stderr",
     "output_type": "stream",
     "text": [
      "/Users/julietnwagwuume-ezeoke/CEE240local/cee240env/lib/python3.9/site-packages/openpyxl/styles/stylesheet.py:226: UserWarning: Workbook contains no default style, apply openpyxl's default\n",
      "  warn(\"Workbook contains no default style, apply openpyxl's default\")\n"
     ]
    },
    {
     "data": {
      "text/html": [
       "<div>\n",
       "<style scoped>\n",
       "    .dataframe tbody tr th:only-of-type {\n",
       "        vertical-align: middle;\n",
       "    }\n",
       "\n",
       "    .dataframe tbody tr th {\n",
       "        vertical-align: top;\n",
       "    }\n",
       "\n",
       "    .dataframe thead th {\n",
       "        text-align: right;\n",
       "    }\n",
       "</style>\n",
       "<table border=\"1\" class=\"dataframe\">\n",
       "  <thead>\n",
       "    <tr style=\"text-align: right;\">\n",
       "      <th></th>\n",
       "      <th>user_data</th>\n",
       "    </tr>\n",
       "  </thead>\n",
       "  <tbody>\n",
       "    <tr>\n",
       "      <th>0</th>\n",
       "      <td>UserSettings Do Not Edit</td>\n",
       "    </tr>\n",
       "    <tr>\n",
       "      <th>1</th>\n",
       "      <td>DurationQtyType=QT_Hour\\nShowAsPercentage=0\\nS...</td>\n",
       "    </tr>\n",
       "  </tbody>\n",
       "</table>\n",
       "</div>"
      ],
      "text/plain": [
       "                                           user_data\n",
       "0                           UserSettings Do Not Edit\n",
       "1  DurationQtyType=QT_Hour\\nShowAsPercentage=0\\nS..."
      ]
     },
     "execution_count": 5,
     "metadata": {},
     "output_type": "execute_result"
    }
   ],
   "source": [
    "df02 = pd.read_excel(PATH, sheet_name=2, engine=\"openpyxl\" )\n",
    "df02"
   ]
  },
  {
   "cell_type": "markdown",
   "metadata": {},
   "source": [
    "# Durations"
   ]
  },
  {
   "cell_type": "code",
   "execution_count": 42,
   "metadata": {},
   "outputs": [
    {
     "name": "stderr",
     "output_type": "stream",
     "text": [
      "/Users/julietnwagwuume-ezeoke/CEE240local/cee240env/lib/python3.9/site-packages/openpyxl/styles/stylesheet.py:226: UserWarning: Workbook contains no default style, apply openpyxl's default\n",
      "  warn(\"Workbook contains no default style, apply openpyxl's default\")\n"
     ]
    },
    {
     "data": {
      "text/html": [
       "<div>\n",
       "<style scoped>\n",
       "    .dataframe tbody tr th:only-of-type {\n",
       "        vertical-align: middle;\n",
       "    }\n",
       "\n",
       "    .dataframe tbody tr th {\n",
       "        vertical-align: top;\n",
       "    }\n",
       "\n",
       "    .dataframe thead th {\n",
       "        text-align: right;\n",
       "    }\n",
       "</style>\n",
       "<table border=\"1\" class=\"dataframe\">\n",
       "  <thead>\n",
       "    <tr style=\"text-align: right;\">\n",
       "      <th></th>\n",
       "      <th>task_code</th>\n",
       "      <th>status_code</th>\n",
       "      <th>wbs_id</th>\n",
       "      <th>float</th>\n",
       "      <th>end_date</th>\n",
       "      <th>start_date</th>\n",
       "      <th>duration</th>\n",
       "      <th>task_name</th>\n",
       "      <th>delete_record_flag</th>\n",
       "    </tr>\n",
       "  </thead>\n",
       "  <tbody>\n",
       "    <tr>\n",
       "      <th>177</th>\n",
       "      <td>C1010</td>\n",
       "      <td>Not Started</td>\n",
       "      <td>CEE240F22.Inc02.Courtyard</td>\n",
       "      <td>29</td>\n",
       "      <td>2023-12-07 16:00:00</td>\n",
       "      <td>2023-11-30 08:00:00</td>\n",
       "      <td>6</td>\n",
       "      <td>install concrete paving Courtyard</td>\n",
       "      <td>NaN</td>\n",
       "    </tr>\n",
       "    <tr>\n",
       "      <th>178</th>\n",
       "      <td>C1020</td>\n",
       "      <td>Not Started</td>\n",
       "      <td>CEE240F22.Inc02.Courtyard</td>\n",
       "      <td>29</td>\n",
       "      <td>2023-12-11 16:00:00</td>\n",
       "      <td>2023-12-08 08:00:00</td>\n",
       "      <td>2</td>\n",
       "      <td>protect trees Courtyard</td>\n",
       "      <td>NaN</td>\n",
       "    </tr>\n",
       "    <tr>\n",
       "      <th>179</th>\n",
       "      <td>C1030</td>\n",
       "      <td>Not Started</td>\n",
       "      <td>CEE240F22.Inc02.Courtyard</td>\n",
       "      <td>29</td>\n",
       "      <td>2023-12-18 16:00:00</td>\n",
       "      <td>2023-12-12 08:00:00</td>\n",
       "      <td>5</td>\n",
       "      <td>install light fixtures Courtyard</td>\n",
       "      <td>NaN</td>\n",
       "    </tr>\n",
       "    <tr>\n",
       "      <th>180</th>\n",
       "      <td>C1040</td>\n",
       "      <td>Not Started</td>\n",
       "      <td>CEE240F22.Inc02.Courtyard</td>\n",
       "      <td>29</td>\n",
       "      <td>2023-12-26 16:00:00</td>\n",
       "      <td>2023-12-19 08:00:00</td>\n",
       "      <td>6</td>\n",
       "      <td>install resin paving  Courtyard</td>\n",
       "      <td>NaN</td>\n",
       "    </tr>\n",
       "    <tr>\n",
       "      <th>181</th>\n",
       "      <td>C1050</td>\n",
       "      <td>Not Started</td>\n",
       "      <td>CEE240F22.Inc02.Courtyard</td>\n",
       "      <td>29</td>\n",
       "      <td>2024-01-02 16:00:00</td>\n",
       "      <td>2023-12-27 08:00:00</td>\n",
       "      <td>5</td>\n",
       "      <td>install courtyard furnishings Courtyard</td>\n",
       "      <td>NaN</td>\n",
       "    </tr>\n",
       "  </tbody>\n",
       "</table>\n",
       "</div>"
      ],
      "text/plain": [
       "    task_code  status_code                     wbs_id  float  \\\n",
       "177     C1010  Not Started  CEE240F22.Inc02.Courtyard     29   \n",
       "178     C1020  Not Started  CEE240F22.Inc02.Courtyard     29   \n",
       "179     C1030  Not Started  CEE240F22.Inc02.Courtyard     29   \n",
       "180     C1040  Not Started  CEE240F22.Inc02.Courtyard     29   \n",
       "181     C1050  Not Started  CEE240F22.Inc02.Courtyard     29   \n",
       "\n",
       "               end_date          start_date  duration  \\\n",
       "177 2023-12-07 16:00:00 2023-11-30 08:00:00         6   \n",
       "178 2023-12-11 16:00:00 2023-12-08 08:00:00         2   \n",
       "179 2023-12-18 16:00:00 2023-12-12 08:00:00         5   \n",
       "180 2023-12-26 16:00:00 2023-12-19 08:00:00         6   \n",
       "181 2024-01-02 16:00:00 2023-12-27 08:00:00         5   \n",
       "\n",
       "                                   task_name  delete_record_flag  \n",
       "177        install concrete paving Courtyard                 NaN  \n",
       "178                  protect trees Courtyard                 NaN  \n",
       "179         install light fixtures Courtyard                 NaN  \n",
       "180          install resin paving  Courtyard                 NaN  \n",
       "181  install courtyard furnishings Courtyard                 NaN  "
      ]
     },
     "execution_count": 42,
     "metadata": {},
     "output_type": "execute_result"
    }
   ],
   "source": [
    "df = pd.read_excel(PATH, sheet_name=0, engine=\"openpyxl\", skiprows=[1] )\n",
    "df.rename(columns={\"target_drtn_hr_cnt\": \"duration\", \"total_float_hr_cnt\": \"float\"}, inplace=True)\n",
    "df.tail()"
   ]
  },
  {
   "cell_type": "code",
   "execution_count": 48,
   "metadata": {},
   "outputs": [
    {
     "data": {
      "text/plain": [
       "<AxesSubplot: >"
      ]
     },
     "execution_count": 48,
     "metadata": {},
     "output_type": "execute_result"
    },
    {
     "data": {
      "image/png": "[encoded data removed]",
      "text/plain": [
       "<Figure size 300x200 with 1 Axes>"
      ]
     },
     "metadata": {},
     "output_type": "display_data"
    }
   ],
   "source": [
    "df.float.hist(bins=30, figsize=(3,2))"
   ]
  },
  {
   "cell_type": "code",
   "execution_count": 31,
   "metadata": {},
   "outputs": [
    {
     "data": {
      "text/plain": [
       "753"
      ]
     },
     "execution_count": 31,
     "metadata": {},
     "output_type": "execute_result"
    }
   ],
   "source": [
    "# current duration -> shld do start and end..\n",
    "curr_dur_days = df[\"duration\"].sum()\n",
    "curr_dur_days"
   ]
  },
  {
   "cell_type": "code",
   "execution_count": 9,
   "metadata": {},
   "outputs": [
    {
     "name": "stderr",
     "output_type": "stream",
     "text": [
      "ic| shave_days: 68\n",
      "ic| curr_dur_days - shave_days: 685\n"
     ]
    },
    {
     "data": {
      "text/plain": [
       "685"
      ]
     },
     "execution_count": 9,
     "metadata": {},
     "output_type": "execute_result"
    }
   ],
   "source": [
    "# need to shave off 14 + 24 days + 30 days contingency \n",
    "shave_days = 30 + 24 + 14\n",
    "ic(shave_days)\n",
    "ic(curr_dur_days - shave_days)"
   ]
  },
  {
   "cell_type": "code",
   "execution_count": 43,
   "metadata": {},
   "outputs": [],
   "source": [
    "def adjust_dur(row):\n",
    "    \"used in an apply function with the df whose columns matches the row selections\"\n",
    "    val = row.duration\n",
    "    if row.float <=50 and row.duration > 1:\n",
    "        val = np.round(row.duration - row.duration * 0.10)\n",
    "    return val\n",
    "            "
   ]
  },
  {
   "cell_type": "code",
   "execution_count": 44,
   "metadata": {},
   "outputs": [],
   "source": [
    "df[\"duration\"] = df.apply(lambda row: adjust_dur(row), axis=1)"
   ]
  },
  {
   "cell_type": "code",
   "execution_count": 14,
   "metadata": {},
   "outputs": [],
   "source": [
    "# df[\"duration\"] = df.apply(lambda row: row.duration - 1 if row.float <=2 else row.duration, axis=1)"
   ]
  },
  {
   "cell_type": "code",
   "execution_count": 45,
   "metadata": {},
   "outputs": [
    {
     "data": {
      "text/plain": [
       "686.0"
      ]
     },
     "execution_count": 45,
     "metadata": {},
     "output_type": "execute_result"
    }
   ],
   "source": [
    "df[\"duration\"].sum()"
   ]
  },
  {
   "cell_type": "code",
   "execution_count": 46,
   "metadata": {},
   "outputs": [
    {
     "data": {
      "text/plain": [
       "array([ 0.,  1.,  2.,  3.,  4.,  7., 12.,  9., 14.,  5.])"
      ]
     },
     "execution_count": 46,
     "metadata": {},
     "output_type": "execute_result"
    }
   ],
   "source": [
    "df[\"duration\"].unique()"
   ]
  },
  {
   "cell_type": "markdown",
   "metadata": {},
   "source": [
    "# Export "
   ]
  },
  {
   "cell_type": "code",
   "execution_count": 16,
   "metadata": {},
   "outputs": [],
   "source": [
    "with pd.ExcelWriter(\"outputs/OUT_CEE240F22_Nov13.xlsx\") as writer: \n",
    "    df.to_excel(writer, sheet_name=\"TASK\", index=False)\n",
    "    df01.to_excel(writer, sheet_name=\"TASKPRED\", index=False)\n",
    "    df02.to_excel(writer, sheet_name=\"USERDATA\", index=False)"
   ]
  },
  {
   "cell_type": "code",
   "execution_count": 47,
   "metadata": {},
   "outputs": [],
   "source": [
    "# readable by P6\n",
    "with pd.ExcelWriter(\"../../Documents/cee240_p6/OUT_CEE240F22_Nov13.xlsx\") as writer: \n",
    "    df.to_excel(writer, sheet_name=\"TASK\", index=False)\n",
    "    df01.to_excel(writer, sheet_name=\"TASKPRED\", index=False)\n",
    "    df02.to_excel(writer, sheet_name=\"USERDATA\", index=False)"
   ]
  },
  {
   "cell_type": "code",
   "execution_count": null,
   "metadata": {},
   "outputs": [],
   "source": [
    "# TODO if needed, reinsert the label row from the excel sheet ..."
   ]
  }
 ],
 "metadata": {
  "kernelspec": {
   "display_name": "Python 3.9.15 ('cee240env': venv)",
   "language": "python",
   "name": "python3"
  },
  "language_info": {
   "codemirror_mode": {
    "name": "ipython",
    "version": 3
   },
   "file_extension": ".py",
   "mimetype": "text/x-python",
   "name": "python",
   "nbconvert_exporter": "python",
   "pygments_lexer": "ipython3",
   "version": "3.9.15"
  },
  "orig_nbformat": 4,
  "vscode": {
   "interpreter": {
    "hash": "b4801f5ea84f6f730669711a33fd08d8ee91491f15618cb850ce1e27ac5fb6ae"
   }
  }
 },
 "nbformat": 4,
 "nbformat_minor": 2
}
