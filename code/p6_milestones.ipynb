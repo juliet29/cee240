{
 "cells": [
  {
   "cell_type": "code",
   "execution_count": 3,
   "metadata": {},
   "outputs": [],
   "source": [
    "# from xerparser.reader import Reader\n",
    "import pandas as pd\n",
    "import numpy as np\n",
    "from icecream import ic"
   ]
  },
  {
   "cell_type": "code",
   "execution_count": 1,
   "metadata": {},
   "outputs": [],
   "source": [
    "PATH = \"../../Documents/cee240_p6/CEE240F22_A.xlsx\""
   ]
  },
  {
   "cell_type": "markdown",
   "metadata": {},
   "source": [
    "# Durations"
   ]
  },
  {
   "cell_type": "code",
   "execution_count": 111,
   "metadata": {},
   "outputs": [
    {
     "name": "stderr",
     "output_type": "stream",
     "text": [
      "/Users/julietnwagwuume-ezeoke/CEE240local/cee240env/lib/python3.9/site-packages/openpyxl/styles/stylesheet.py:226: UserWarning: Workbook contains no default style, apply openpyxl's default\n",
      "  warn(\"Workbook contains no default style, apply openpyxl's default\")\n"
     ]
    },
    {
     "data": {
      "text/html": [
       "<div>\n",
       "<style scoped>\n",
       "    .dataframe tbody tr th:only-of-type {\n",
       "        vertical-align: middle;\n",
       "    }\n",
       "\n",
       "    .dataframe tbody tr th {\n",
       "        vertical-align: top;\n",
       "    }\n",
       "\n",
       "    .dataframe thead th {\n",
       "        text-align: right;\n",
       "    }\n",
       "</style>\n",
       "<table border=\"1\" class=\"dataframe\">\n",
       "  <thead>\n",
       "    <tr style=\"text-align: right;\">\n",
       "      <th></th>\n",
       "      <th>task_code</th>\n",
       "      <th>status_code</th>\n",
       "      <th>wbs_id</th>\n",
       "      <th>float</th>\n",
       "      <th>end_date</th>\n",
       "      <th>start_date</th>\n",
       "      <th>duration</th>\n",
       "      <th>task_name</th>\n",
       "      <th>delete_record_flag</th>\n",
       "    </tr>\n",
       "  </thead>\n",
       "  <tbody>\n",
       "    <tr>\n",
       "      <th>0</th>\n",
       "      <td>P1B1000</td>\n",
       "      <td>Not Started</td>\n",
       "      <td>CEE240F22.Inc01</td>\n",
       "      <td>45</td>\n",
       "      <td>2022-09-01 08:00:00</td>\n",
       "      <td>2022-09-01 08:00:00</td>\n",
       "      <td>0</td>\n",
       "      <td>NTP</td>\n",
       "      <td>NaN</td>\n",
       "    </tr>\n",
       "    <tr>\n",
       "      <th>1</th>\n",
       "      <td>P1B1010</td>\n",
       "      <td>Not Started</td>\n",
       "      <td>CEE240F22.Inc01</td>\n",
       "      <td>45</td>\n",
       "      <td>2022-09-01 16:00:00</td>\n",
       "      <td>2022-09-01 08:00:00</td>\n",
       "      <td>1</td>\n",
       "      <td>submit shut down request for facilities</td>\n",
       "      <td>NaN</td>\n",
       "    </tr>\n",
       "    <tr>\n",
       "      <th>2</th>\n",
       "      <td>P1B1020</td>\n",
       "      <td>Not Started</td>\n",
       "      <td>CEE240F22.Inc01</td>\n",
       "      <td>45</td>\n",
       "      <td>2022-09-05 16:00:00</td>\n",
       "      <td>2022-09-02 08:00:00</td>\n",
       "      <td>2</td>\n",
       "      <td>demo ceilings  GL 6.5, M.4</td>\n",
       "      <td>NaN</td>\n",
       "    </tr>\n",
       "  </tbody>\n",
       "</table>\n",
       "</div>"
      ],
      "text/plain": [
       "  task_code  status_code           wbs_id  float            end_date  \\\n",
       "0   P1B1000  Not Started  CEE240F22.Inc01     45 2022-09-01 08:00:00   \n",
       "1   P1B1010  Not Started  CEE240F22.Inc01     45 2022-09-01 16:00:00   \n",
       "2   P1B1020  Not Started  CEE240F22.Inc01     45 2022-09-05 16:00:00   \n",
       "\n",
       "           start_date  duration                                task_name  \\\n",
       "0 2022-09-01 08:00:00         0                                      NTP   \n",
       "1 2022-09-01 08:00:00         1  submit shut down request for facilities   \n",
       "2 2022-09-02 08:00:00         2               demo ceilings  GL 6.5, M.4   \n",
       "\n",
       "   delete_record_flag  \n",
       "0                 NaN  \n",
       "1                 NaN  \n",
       "2                 NaN  "
      ]
     },
     "execution_count": 111,
     "metadata": {},
     "output_type": "execute_result"
    }
   ],
   "source": [
    "df = pd.read_excel(PATH, sheet_name=0, engine=\"openpyxl\", skiprows=[1] )\n",
    "# rename columns to be easier to access\n",
    "df.rename(columns={\"target_drtn_hr_cnt\": \"duration\", \"total_float_hr_cnt\": \"float\"}, inplace=True)\n",
    "df.head(3)"
   ]
  },
  {
   "cell_type": "code",
   "execution_count": 113,
   "metadata": {},
   "outputs": [
    {
     "data": {
      "text/plain": [
       "<AxesSubplot: >"
      ]
     },
     "execution_count": 113,
     "metadata": {},
     "output_type": "execute_result"
    },
    {
     "data": {
      "image/png": "[encoded data removed]",
      "text/plain": [
       "<Figure size 300x200 with 1 Axes>"
      ]
     },
     "metadata": {},
     "output_type": "display_data"
    }
   ],
   "source": [
    "df.duration.hist(bins=30, figsize=(3,2))"
   ]
  },
  {
   "cell_type": "code",
   "execution_count": 48,
   "metadata": {},
   "outputs": [
    {
     "data": {
      "text/plain": [
       "<AxesSubplot: >"
      ]
     },
     "execution_count": 48,
     "metadata": {},
     "output_type": "execute_result"
    },
    {
     "data": {
      "image/png": "[encoded data removed]",
      "text/plain": [
       "<Figure size 300x200 with 1 Axes>"
      ]
     },
     "metadata": {},
     "output_type": "display_data"
    }
   ],
   "source": [
    "df.float.hist(bins=30, figsize=(3,2))"
   ]
  },
  {
   "cell_type": "code",
   "execution_count": 114,
   "metadata": {},
   "outputs": [],
   "source": [
    "def adjust_dur(row):\n",
    "    \"used in an apply function with the df whose columns matches the row selections\"\n",
    "    if row.float <=50 and row.duration > 1:\n",
    "        return np.round(row.duration - 1)\n",
    "    elif row.duration > 15:\n",
    "        return row.duration - 2\n",
    "    elif row.duration > 5:\n",
    "        return row.duration -1\n",
    "    else:\n",
    "        return row.duration\n",
    "            "
   ]
  },
  {
   "cell_type": "markdown",
   "metadata": {},
   "source": [
    "## edit durations"
   ]
  },
  {
   "cell_type": "code",
   "execution_count": 115,
   "metadata": {},
   "outputs": [
    {
     "name": "stderr",
     "output_type": "stream",
     "text": [
      "ic| before: 753, after: 602\n",
      "ic| df[\"duration\"].unique(): array([ 0,  1,  2,  3,  7, 11,  9,  4, 14,  5])\n"
     ]
    },
    {
     "data": {
      "text/plain": [
       "array([ 0,  1,  2,  3,  7, 11,  9,  4, 14,  5])"
      ]
     },
     "execution_count": 115,
     "metadata": {},
     "output_type": "execute_result"
    }
   ],
   "source": [
    "before = df[\"duration\"].sum()\n",
    "df[\"duration\"] = df.apply(lambda row: adjust_dur(row), axis=1)\n",
    "after = df[\"duration\"].sum()\n",
    "ic(before, after)\n",
    "ic(df[\"duration\"].unique())"
   ]
  },
  {
   "cell_type": "code",
   "execution_count": 116,
   "metadata": {},
   "outputs": [
    {
     "data": {
      "text/plain": [
       "<AxesSubplot: >"
      ]
     },
     "execution_count": 116,
     "metadata": {},
     "output_type": "execute_result"
    },
    {
     "data": {
      "image/png": "[encoded data removed]",
      "text/plain": [
       "<Figure size 300x200 with 1 Axes>"
      ]
     },
     "metadata": {},
     "output_type": "display_data"
    }
   ],
   "source": [
    "df.duration.hist(bins=30, figsize=(3,2))"
   ]
  },
  {
   "cell_type": "markdown",
   "metadata": {},
   "source": [
    "# Export "
   ]
  },
  {
   "cell_type": "markdown",
   "metadata": {},
   "source": [
    "## modificiations"
   ]
  },
  {
   "cell_type": "code",
   "execution_count": 117,
   "metadata": {},
   "outputs": [
    {
     "name": "stderr",
     "output_type": "stream",
     "text": [
      "/Users/julietnwagwuume-ezeoke/CEE240local/cee240env/lib/python3.9/site-packages/openpyxl/styles/stylesheet.py:226: UserWarning: Workbook contains no default style, apply openpyxl's default\n",
      "  warn(\"Workbook contains no default style, apply openpyxl's default\")\n"
     ]
    },
    {
     "data": {
      "text/html": [
       "<div>\n",
       "<style scoped>\n",
       "    .dataframe tbody tr th:only-of-type {\n",
       "        vertical-align: middle;\n",
       "    }\n",
       "\n",
       "    .dataframe tbody tr th {\n",
       "        vertical-align: top;\n",
       "    }\n",
       "\n",
       "    .dataframe thead th {\n",
       "        text-align: right;\n",
       "    }\n",
       "</style>\n",
       "<table border=\"1\" class=\"dataframe\">\n",
       "  <thead>\n",
       "    <tr style=\"text-align: right;\">\n",
       "      <th></th>\n",
       "      <th>task_code</th>\n",
       "      <th>status_code</th>\n",
       "      <th>wbs_id</th>\n",
       "      <th>total_float_hr_cnt</th>\n",
       "      <th>end_date</th>\n",
       "      <th>start_date</th>\n",
       "      <th>target_drtn_hr_cnt</th>\n",
       "      <th>task_name</th>\n",
       "      <th>delete_record_flag</th>\n",
       "    </tr>\n",
       "  </thead>\n",
       "  <tbody>\n",
       "    <tr>\n",
       "      <th>0</th>\n",
       "      <td>Activity ID</td>\n",
       "      <td>Activity Status</td>\n",
       "      <td>WBS Code</td>\n",
       "      <td>(*)Total Float(h)</td>\n",
       "      <td>(*)Finish</td>\n",
       "      <td>(*)Start</td>\n",
       "      <td>Original Duration(h)</td>\n",
       "      <td>Activity Name</td>\n",
       "      <td>Delete This Row</td>\n",
       "    </tr>\n",
       "    <tr>\n",
       "      <th>1</th>\n",
       "      <td>P1B1000</td>\n",
       "      <td>Not Started</td>\n",
       "      <td>CEE240F22.Inc01</td>\n",
       "      <td>45</td>\n",
       "      <td>2022-09-01 08:00:00</td>\n",
       "      <td>2022-09-01 08:00:00</td>\n",
       "      <td>0</td>\n",
       "      <td>NTP</td>\n",
       "      <td>NaN</td>\n",
       "    </tr>\n",
       "    <tr>\n",
       "      <th>2</th>\n",
       "      <td>P1B1010</td>\n",
       "      <td>Not Started</td>\n",
       "      <td>CEE240F22.Inc01</td>\n",
       "      <td>45</td>\n",
       "      <td>2022-09-01 16:00:00</td>\n",
       "      <td>2022-09-01 08:00:00</td>\n",
       "      <td>1</td>\n",
       "      <td>submit shut down request for facilities</td>\n",
       "      <td>NaN</td>\n",
       "    </tr>\n",
       "    <tr>\n",
       "      <th>3</th>\n",
       "      <td>P1B1020</td>\n",
       "      <td>Not Started</td>\n",
       "      <td>CEE240F22.Inc01</td>\n",
       "      <td>45</td>\n",
       "      <td>2022-09-05 16:00:00</td>\n",
       "      <td>2022-09-02 08:00:00</td>\n",
       "      <td>1</td>\n",
       "      <td>demo ceilings  GL 6.5, M.4</td>\n",
       "      <td>NaN</td>\n",
       "    </tr>\n",
       "    <tr>\n",
       "      <th>4</th>\n",
       "      <td>P1B1030</td>\n",
       "      <td>Not Started</td>\n",
       "      <td>CEE240F22.Inc01</td>\n",
       "      <td>0</td>\n",
       "      <td>2022-11-10 16:00:00</td>\n",
       "      <td>2022-11-08 08:00:00</td>\n",
       "      <td>2</td>\n",
       "      <td>erect temp barrier, GL 6.5, M.4</td>\n",
       "      <td>NaN</td>\n",
       "    </tr>\n",
       "    <tr>\n",
       "      <th>5</th>\n",
       "      <td>P1B1040</td>\n",
       "      <td>Not Started</td>\n",
       "      <td>CEE240F22.Inc01</td>\n",
       "      <td>0</td>\n",
       "      <td>2022-11-15 16:00:00</td>\n",
       "      <td>2022-11-11 08:00:00</td>\n",
       "      <td>2</td>\n",
       "      <td>demo exterior walls  GL 5.7 M</td>\n",
       "      <td>NaN</td>\n",
       "    </tr>\n",
       "    <tr>\n",
       "      <th>6</th>\n",
       "      <td>P1B1050</td>\n",
       "      <td>Not Started</td>\n",
       "      <td>CEE240F22.Inc01</td>\n",
       "      <td>0</td>\n",
       "      <td>2022-11-18 16:00:00</td>\n",
       "      <td>2022-11-16 08:00:00</td>\n",
       "      <td>2</td>\n",
       "      <td>demo interior walls  GL 5.7 - 7.1 M.4</td>\n",
       "      <td>NaN</td>\n",
       "    </tr>\n",
       "    <tr>\n",
       "      <th>7</th>\n",
       "      <td>P1B1060</td>\n",
       "      <td>Not Started</td>\n",
       "      <td>CEE240F22.Inc01</td>\n",
       "      <td>0</td>\n",
       "      <td>2022-11-21 16:00:00</td>\n",
       "      <td>2022-11-21 08:00:00</td>\n",
       "      <td>1</td>\n",
       "      <td>remove, salvage column covers,  GL 7.1 M</td>\n",
       "      <td>NaN</td>\n",
       "    </tr>\n",
       "    <tr>\n",
       "      <th>8</th>\n",
       "      <td>P1B1070</td>\n",
       "      <td>Not Started</td>\n",
       "      <td>CEE240F22.Inc01</td>\n",
       "      <td>45</td>\n",
       "      <td>2022-09-05 16:00:00</td>\n",
       "      <td>2022-09-02 08:00:00</td>\n",
       "      <td>1</td>\n",
       "      <td>demo ceilings 1L 7.1, M.4</td>\n",
       "      <td>NaN</td>\n",
       "    </tr>\n",
       "    <tr>\n",
       "      <th>9</th>\n",
       "      <td>P1B1080</td>\n",
       "      <td>Not Started</td>\n",
       "      <td>CEE240F22.Inc01</td>\n",
       "      <td>317</td>\n",
       "      <td>2022-11-24 16:00:00</td>\n",
       "      <td>2022-11-22 08:00:00</td>\n",
       "      <td>3</td>\n",
       "      <td>remove, dispose 8\" san. sewer GL 5.7 D.4</td>\n",
       "      <td>NaN</td>\n",
       "    </tr>\n",
       "  </tbody>\n",
       "</table>\n",
       "</div>"
      ],
      "text/plain": [
       "     task_code      status_code           wbs_id total_float_hr_cnt  \\\n",
       "0  Activity ID  Activity Status         WBS Code  (*)Total Float(h)   \n",
       "1      P1B1000      Not Started  CEE240F22.Inc01                 45   \n",
       "2      P1B1010      Not Started  CEE240F22.Inc01                 45   \n",
       "3      P1B1020      Not Started  CEE240F22.Inc01                 45   \n",
       "4      P1B1030      Not Started  CEE240F22.Inc01                  0   \n",
       "5      P1B1040      Not Started  CEE240F22.Inc01                  0   \n",
       "6      P1B1050      Not Started  CEE240F22.Inc01                  0   \n",
       "7      P1B1060      Not Started  CEE240F22.Inc01                  0   \n",
       "8      P1B1070      Not Started  CEE240F22.Inc01                 45   \n",
       "9      P1B1080      Not Started  CEE240F22.Inc01                317   \n",
       "\n",
       "              end_date           start_date    target_drtn_hr_cnt  \\\n",
       "0            (*)Finish             (*)Start  Original Duration(h)   \n",
       "1  2022-09-01 08:00:00  2022-09-01 08:00:00                     0   \n",
       "2  2022-09-01 16:00:00  2022-09-01 08:00:00                     1   \n",
       "3  2022-09-05 16:00:00  2022-09-02 08:00:00                     1   \n",
       "4  2022-11-10 16:00:00  2022-11-08 08:00:00                     2   \n",
       "5  2022-11-15 16:00:00  2022-11-11 08:00:00                     2   \n",
       "6  2022-11-18 16:00:00  2022-11-16 08:00:00                     2   \n",
       "7  2022-11-21 16:00:00  2022-11-21 08:00:00                     1   \n",
       "8  2022-09-05 16:00:00  2022-09-02 08:00:00                     1   \n",
       "9  2022-11-24 16:00:00  2022-11-22 08:00:00                     3   \n",
       "\n",
       "                                  task_name delete_record_flag  \n",
       "0                             Activity Name    Delete This Row  \n",
       "1                                       NTP                NaN  \n",
       "2   submit shut down request for facilities                NaN  \n",
       "3                demo ceilings  GL 6.5, M.4                NaN  \n",
       "4           erect temp barrier, GL 6.5, M.4                NaN  \n",
       "5             demo exterior walls  GL 5.7 M                NaN  \n",
       "6     demo interior walls  GL 5.7 - 7.1 M.4                NaN  \n",
       "7  remove, salvage column covers,  GL 7.1 M                NaN  \n",
       "8                 demo ceilings 1L 7.1, M.4                NaN  \n",
       "9  remove, dispose 8\" san. sewer GL 5.7 D.4                NaN  "
      ]
     },
     "execution_count": 117,
     "metadata": {},
     "output_type": "execute_result"
    }
   ],
   "source": [
    "df00 = pd.read_excel(PATH, sheet_name=0, engine=\"openpyxl\", )\n",
    "# give original columns \n",
    "new_col = { k:v for (k,v) in zip(df.columns, df00.columns)} \n",
    "df.rename(columns=new_col, inplace=True)\n",
    "\n",
    "# give original headings \n",
    "df.loc[-1] = df00.loc[0] \n",
    "df.index = df.index + 1  # shifting index\n",
    "df = df.sort_index()  # sorting by index\n",
    "df.head(10)\n"
   ]
  },
  {
   "cell_type": "code",
   "execution_count": 118,
   "metadata": {},
   "outputs": [
    {
     "name": "stderr",
     "output_type": "stream",
     "text": [
      "/Users/julietnwagwuume-ezeoke/CEE240local/cee240env/lib/python3.9/site-packages/openpyxl/styles/stylesheet.py:226: UserWarning: Workbook contains no default style, apply openpyxl's default\n",
      "  warn(\"Workbook contains no default style, apply openpyxl's default\")\n",
      "/Users/julietnwagwuume-ezeoke/CEE240local/cee240env/lib/python3.9/site-packages/openpyxl/styles/stylesheet.py:226: UserWarning: Workbook contains no default style, apply openpyxl's default\n",
      "  warn(\"Workbook contains no default style, apply openpyxl's default\")\n"
     ]
    }
   ],
   "source": [
    "# import other sheets to recreate original excel file \n",
    "df01 = pd.read_excel(PATH, sheet_name=1, engine=\"openpyxl\" )\n",
    "df02 = pd.read_excel(PATH, sheet_name=2, engine=\"openpyxl\" )"
   ]
  },
  {
   "cell_type": "code",
   "execution_count": 119,
   "metadata": {},
   "outputs": [],
   "source": [
    "# readable by P6\n",
    "\n",
    "with pd.ExcelWriter(\"../../Documents/cee240_p6/OUT_CEE240F22_Nov13.xlsx\") as writer: \n",
    "    df.to_excel(writer, sheet_name=\"TASK\", index=False)\n",
    "    df01.to_excel(writer, sheet_name=\"TASKPRED\", index=False)\n",
    "    df02.to_excel(writer, sheet_name=\"USERDATA\", index=False)"
   ]
  },
  {
   "cell_type": "code",
   "execution_count": 120,
   "metadata": {},
   "outputs": [
    {
     "data": {
      "text/html": [
       "<div>\n",
       "<style scoped>\n",
       "    .dataframe tbody tr th:only-of-type {\n",
       "        vertical-align: middle;\n",
       "    }\n",
       "\n",
       "    .dataframe tbody tr th {\n",
       "        vertical-align: top;\n",
       "    }\n",
       "\n",
       "    .dataframe thead th {\n",
       "        text-align: right;\n",
       "    }\n",
       "</style>\n",
       "<table border=\"1\" class=\"dataframe\">\n",
       "  <thead>\n",
       "    <tr style=\"text-align: right;\">\n",
       "      <th></th>\n",
       "      <th>task_code</th>\n",
       "      <th>status_code</th>\n",
       "      <th>wbs_id</th>\n",
       "      <th>total_float_hr_cnt</th>\n",
       "      <th>end_date</th>\n",
       "      <th>start_date</th>\n",
       "      <th>target_drtn_hr_cnt</th>\n",
       "      <th>task_name</th>\n",
       "      <th>delete_record_flag</th>\n",
       "    </tr>\n",
       "  </thead>\n",
       "  <tbody>\n",
       "    <tr>\n",
       "      <th>0</th>\n",
       "      <td>Activity ID</td>\n",
       "      <td>Activity Status</td>\n",
       "      <td>WBS Code</td>\n",
       "      <td>(*)Total Float(h)</td>\n",
       "      <td>(*)Finish</td>\n",
       "      <td>(*)Start</td>\n",
       "      <td>Original Duration(h)</td>\n",
       "      <td>Activity Name</td>\n",
       "      <td>Delete This Row</td>\n",
       "    </tr>\n",
       "    <tr>\n",
       "      <th>1</th>\n",
       "      <td>P1B1000</td>\n",
       "      <td>Not Started</td>\n",
       "      <td>CEE240F22.Inc01</td>\n",
       "      <td>45</td>\n",
       "      <td>2022-09-01 08:00:00</td>\n",
       "      <td>2022-09-01 08:00:00</td>\n",
       "      <td>0</td>\n",
       "      <td>NTP</td>\n",
       "      <td>NaN</td>\n",
       "    </tr>\n",
       "    <tr>\n",
       "      <th>2</th>\n",
       "      <td>P1B1010</td>\n",
       "      <td>Not Started</td>\n",
       "      <td>CEE240F22.Inc01</td>\n",
       "      <td>45</td>\n",
       "      <td>2022-09-01 16:00:00</td>\n",
       "      <td>2022-09-01 08:00:00</td>\n",
       "      <td>1</td>\n",
       "      <td>submit shut down request for facilities</td>\n",
       "      <td>NaN</td>\n",
       "    </tr>\n",
       "    <tr>\n",
       "      <th>3</th>\n",
       "      <td>P1B1020</td>\n",
       "      <td>Not Started</td>\n",
       "      <td>CEE240F22.Inc01</td>\n",
       "      <td>45</td>\n",
       "      <td>2022-09-05 16:00:00</td>\n",
       "      <td>2022-09-02 08:00:00</td>\n",
       "      <td>1</td>\n",
       "      <td>demo ceilings  GL 6.5, M.4</td>\n",
       "      <td>NaN</td>\n",
       "    </tr>\n",
       "    <tr>\n",
       "      <th>4</th>\n",
       "      <td>P1B1030</td>\n",
       "      <td>Not Started</td>\n",
       "      <td>CEE240F22.Inc01</td>\n",
       "      <td>0</td>\n",
       "      <td>2022-11-10 16:00:00</td>\n",
       "      <td>2022-11-08 08:00:00</td>\n",
       "      <td>2</td>\n",
       "      <td>erect temp barrier, GL 6.5, M.4</td>\n",
       "      <td>NaN</td>\n",
       "    </tr>\n",
       "    <tr>\n",
       "      <th>5</th>\n",
       "      <td>P1B1040</td>\n",
       "      <td>Not Started</td>\n",
       "      <td>CEE240F22.Inc01</td>\n",
       "      <td>0</td>\n",
       "      <td>2022-11-15 16:00:00</td>\n",
       "      <td>2022-11-11 08:00:00</td>\n",
       "      <td>2</td>\n",
       "      <td>demo exterior walls  GL 5.7 M</td>\n",
       "      <td>NaN</td>\n",
       "    </tr>\n",
       "    <tr>\n",
       "      <th>6</th>\n",
       "      <td>P1B1050</td>\n",
       "      <td>Not Started</td>\n",
       "      <td>CEE240F22.Inc01</td>\n",
       "      <td>0</td>\n",
       "      <td>2022-11-18 16:00:00</td>\n",
       "      <td>2022-11-16 08:00:00</td>\n",
       "      <td>2</td>\n",
       "      <td>demo interior walls  GL 5.7 - 7.1 M.4</td>\n",
       "      <td>NaN</td>\n",
       "    </tr>\n",
       "    <tr>\n",
       "      <th>7</th>\n",
       "      <td>P1B1060</td>\n",
       "      <td>Not Started</td>\n",
       "      <td>CEE240F22.Inc01</td>\n",
       "      <td>0</td>\n",
       "      <td>2022-11-21 16:00:00</td>\n",
       "      <td>2022-11-21 08:00:00</td>\n",
       "      <td>1</td>\n",
       "      <td>remove, salvage column covers,  GL 7.1 M</td>\n",
       "      <td>NaN</td>\n",
       "    </tr>\n",
       "    <tr>\n",
       "      <th>8</th>\n",
       "      <td>P1B1070</td>\n",
       "      <td>Not Started</td>\n",
       "      <td>CEE240F22.Inc01</td>\n",
       "      <td>45</td>\n",
       "      <td>2022-09-05 16:00:00</td>\n",
       "      <td>2022-09-02 08:00:00</td>\n",
       "      <td>1</td>\n",
       "      <td>demo ceilings 1L 7.1, M.4</td>\n",
       "      <td>NaN</td>\n",
       "    </tr>\n",
       "    <tr>\n",
       "      <th>9</th>\n",
       "      <td>P1B1080</td>\n",
       "      <td>Not Started</td>\n",
       "      <td>CEE240F22.Inc01</td>\n",
       "      <td>317</td>\n",
       "      <td>2022-11-24 16:00:00</td>\n",
       "      <td>2022-11-22 08:00:00</td>\n",
       "      <td>3</td>\n",
       "      <td>remove, dispose 8\" san. sewer GL 5.7 D.4</td>\n",
       "      <td>NaN</td>\n",
       "    </tr>\n",
       "  </tbody>\n",
       "</table>\n",
       "</div>"
      ],
      "text/plain": [
       "     task_code      status_code           wbs_id total_float_hr_cnt  \\\n",
       "0  Activity ID  Activity Status         WBS Code  (*)Total Float(h)   \n",
       "1      P1B1000      Not Started  CEE240F22.Inc01                 45   \n",
       "2      P1B1010      Not Started  CEE240F22.Inc01                 45   \n",
       "3      P1B1020      Not Started  CEE240F22.Inc01                 45   \n",
       "4      P1B1030      Not Started  CEE240F22.Inc01                  0   \n",
       "5      P1B1040      Not Started  CEE240F22.Inc01                  0   \n",
       "6      P1B1050      Not Started  CEE240F22.Inc01                  0   \n",
       "7      P1B1060      Not Started  CEE240F22.Inc01                  0   \n",
       "8      P1B1070      Not Started  CEE240F22.Inc01                 45   \n",
       "9      P1B1080      Not Started  CEE240F22.Inc01                317   \n",
       "\n",
       "              end_date           start_date    target_drtn_hr_cnt  \\\n",
       "0            (*)Finish             (*)Start  Original Duration(h)   \n",
       "1  2022-09-01 08:00:00  2022-09-01 08:00:00                     0   \n",
       "2  2022-09-01 16:00:00  2022-09-01 08:00:00                     1   \n",
       "3  2022-09-05 16:00:00  2022-09-02 08:00:00                     1   \n",
       "4  2022-11-10 16:00:00  2022-11-08 08:00:00                     2   \n",
       "5  2022-11-15 16:00:00  2022-11-11 08:00:00                     2   \n",
       "6  2022-11-18 16:00:00  2022-11-16 08:00:00                     2   \n",
       "7  2022-11-21 16:00:00  2022-11-21 08:00:00                     1   \n",
       "8  2022-09-05 16:00:00  2022-09-02 08:00:00                     1   \n",
       "9  2022-11-24 16:00:00  2022-11-22 08:00:00                     3   \n",
       "\n",
       "                                  task_name delete_record_flag  \n",
       "0                             Activity Name    Delete This Row  \n",
       "1                                       NTP                NaN  \n",
       "2   submit shut down request for facilities                NaN  \n",
       "3                demo ceilings  GL 6.5, M.4                NaN  \n",
       "4           erect temp barrier, GL 6.5, M.4                NaN  \n",
       "5             demo exterior walls  GL 5.7 M                NaN  \n",
       "6     demo interior walls  GL 5.7 - 7.1 M.4                NaN  \n",
       "7  remove, salvage column covers,  GL 7.1 M                NaN  \n",
       "8                 demo ceilings 1L 7.1, M.4                NaN  \n",
       "9  remove, dispose 8\" san. sewer GL 5.7 D.4                NaN  "
      ]
     },
     "execution_count": 120,
     "metadata": {},
     "output_type": "execute_result"
    }
   ],
   "source": [
    "df.head(10)"
   ]
  },
  {
   "cell_type": "code",
   "execution_count": null,
   "metadata": {},
   "outputs": [],
   "source": [
    "# local write\n",
    "with pd.ExcelWriter(\"outputs/OUT_CEE240F22_Nov13.xlsx\") as writer: \n",
    "    df.to_excel(writer, sheet_name=\"TASK\", index=False)\n",
    "    df01.to_excel(writer, sheet_name=\"TASKPRED\", index=False)\n",
    "    df02.to_excel(writer, sheet_name=\"USERDATA\", index=False)"
   ]
  }
 ],
 "metadata": {
  "kernelspec": {
   "display_name": "Python 3.9.15 ('cee240env': venv)",
   "language": "python",
   "name": "python3"
  },
  "language_info": {
   "codemirror_mode": {
    "name": "ipython",
    "version": 3
   },
   "file_extension": ".py",
   "mimetype": "text/x-python",
   "name": "python",
   "nbconvert_exporter": "python",
   "pygments_lexer": "ipython3",
   "version": "3.9.15"
  },
  "orig_nbformat": 4,
  "vscode": {
   "interpreter": {
    "hash": "b4801f5ea84f6f730669711a33fd08d8ee91491f15618cb850ce1e27ac5fb6ae"
   }
  }
 },
 "nbformat": 4,
 "nbformat_minor": 2
}
