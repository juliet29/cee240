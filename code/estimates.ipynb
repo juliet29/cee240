{
 "cells": [
  {
   "cell_type": "code",
   "execution_count": 2,
   "metadata": {},
   "outputs": [],
   "source": [
    "from pint import UnitRegistry\n",
    "import pandas as pd\n"
   ]
  },
  {
   "cell_type": "markdown",
   "metadata": {},
   "source": [
    "# helpef functions, constants, etc "
   ]
  },
  {
   "cell_type": "code",
   "execution_count": 17,
   "metadata": {},
   "outputs": [],
   "source": [
    "class ComponentReportClass:\n",
    "    def __init__(self, depth, length, width):\n",
    "        self.depth = depth\n",
    "        self.length = length\n",
    "        self.width = width \n",
    "        self.rebar = None\n",
    "        self.rebar_temp_length = None\n",
    "    # dimensional calcs   \n",
    "    def calc_volume(self):\n",
    "        return (self.depth).to(\"yards\") * (self.width).to(\"yards\") * (self.length).to(\"yards\")\n",
    "    def calc_top_face_area(self):\n",
    "        return self.length * self.width \n",
    "    def calc_sides_face_area(self):\n",
    "        return 2 * (self.depth,self.width ) + 2, (self.depth * self.length )\n",
    "    # conversion calcs\n",
    "    def to_cubic_yards(a):\n",
    "        return a/27\n",
    "\n",
    "    # basic work calcs\n",
    "    def calc_subgrade_prep(self):\n",
    "        bottom = self.calc_top_face_area()\n",
    "        sides = self.calc_sides_face_area()\n",
    "        return bottom + sides\n",
    "    def calc_formwork(self):\n",
    "        return self.calc_sides_face_area()\n",
    "    def calc_excavation(self):\n",
    "        # TODO add benching...\n",
    "        return self.calc_volume()\n",
    "    def calc_concrete(self):\n",
    "        return self.calc_volume()* 1.08\n",
    "\n",
    "\n",
    "    # rebar calcs\n",
    "    def calc_rebar(self, quant, length):\n",
    "        \"\"\"quant and length need to be arrays \"\"\"\n",
    "        quant = to_list(quant)\n",
    "        length = to_list(length)\n",
    "\n",
    "        h = [a*b for a,b in zip(quant, length)]\n",
    "        self.rebar = sum(h)\n",
    "        return self.rebar\n",
    "\n",
    "    def calc_rebar_template(self, pilecap=False):\n",
    "        \"\"\"quant and length need to be arrays \"\"\"\n",
    "        rebar_temp_length = 0\n",
    "        if pilecap==True:\n",
    "            rebar_temp_length = self.length * 2 + self.width * 2\n",
    "        else:\n",
    "            rebar_temp_length = self.length\n",
    "\n",
    "        self.rebar_temp_length = rebar_temp_length\n",
    "        return self.rebar_temp_length\n",
    "\n",
    "    # reports\n",
    "    def report_basic(self):\n",
    "        report = {\n",
    "            \"subgrade\": self.calc_subgrade_prep(),\n",
    "            \"excavation\": self.calc_excavation(),\n",
    "            \"formwork\": self.calc_formwork(),\n",
    "            \"rebar_template\": self.rebar_temp_length if self.rebar_temp_length else 0*ft,\n",
    "            \"concrete\": self.calc_concrete(),\n",
    "            \"rebar\": self.rebar if self.rebar else 0*ft\n",
    "        }\n",
    "        return report \n",
    "\n",
    "\n",
    "    "
   ]
  },
  {
   "cell_type": "code",
   "execution_count": 4,
   "metadata": {},
   "outputs": [],
   "source": [
    "u = UnitRegistry()\n",
    "ft = u.feet\n",
    "inc = u.inches\n",
    "\n",
    "def to_list(a):\n",
    "    a = [a] if type(a) != list else a\n",
    "    return a\n",
    "\n",
    "def calc_component_totals(components, fx):\n",
    "    \"\"\"components are defined components\n",
    "    fx is a function that takes in a list of components \"\"\"\n",
    "    c_reports = [c.report_basic() for c in components]\n",
    "\n",
    "    sum_components = {}\n",
    "    for k in c_reports[0].keys():\n",
    "        sum_components[k] = fx(c_reports, k)\n",
    "\n",
    "    return sum_components\n",
    "\n",
    "def to_df(a_dict):\n",
    "    t1 = { f\"{k} [{str(v.units)}]\": round(v.magnitude,2) for k,v in a_dict.items()}\n",
    "    return pd.DataFrame(t1, index=[0])"
   ]
  },
  {
   "cell_type": "markdown",
   "metadata": {},
   "source": [
    "rebar types"
   ]
  },
  {
   "cell_type": "code",
   "execution_count": 5,
   "metadata": {},
   "outputs": [],
   "source": [
    "rebar_dict = {\n",
    "    \"num_5\": 4*ft + 9*inc\n",
    "}"
   ]
  },
  {
   "cell_type": "markdown",
   "metadata": {},
   "source": [
    "# Start Calcs"
   ]
  },
  {
   "cell_type": "code",
   "execution_count": 19,
   "metadata": {},
   "outputs": [
    {
     "data": {
      "text/html": [
       "<div>\n",
       "<style scoped>\n",
       "    .dataframe tbody tr th:only-of-type {\n",
       "        vertical-align: middle;\n",
       "    }\n",
       "\n",
       "    .dataframe tbody tr th {\n",
       "        vertical-align: top;\n",
       "    }\n",
       "\n",
       "    .dataframe thead th {\n",
       "        text-align: right;\n",
       "    }\n",
       "</style>\n",
       "<table border=\"1\" class=\"dataframe\">\n",
       "  <thead>\n",
       "    <tr style=\"text-align: right;\">\n",
       "      <th></th>\n",
       "      <th>subgrade [foot ** 2]</th>\n",
       "      <th>excavation [yard ** 3]</th>\n",
       "      <th>formwork [foot ** 2]</th>\n",
       "      <th>rebar_template [foot]</th>\n",
       "      <th>concrete [yard ** 3]</th>\n",
       "      <th>rebar [foot]</th>\n",
       "    </tr>\n",
       "  </thead>\n",
       "  <tbody>\n",
       "    <tr>\n",
       "      <th>0</th>\n",
       "      <td>428.42</td>\n",
       "      <td>20.73</td>\n",
       "      <td>216.17</td>\n",
       "      <td>87.33</td>\n",
       "      <td>22.39</td>\n",
       "      <td>275.5</td>\n",
       "    </tr>\n",
       "  </tbody>\n",
       "</table>\n",
       "</div>"
      ],
      "text/plain": [
       "   subgrade [foot ** 2]  excavation [yard ** 3]  formwork [foot ** 2]  \\\n",
       "0                428.42                   20.73                216.17   \n",
       "\n",
       "   rebar_template [foot]  concrete [yard ** 3]  rebar [foot]  \n",
       "0                  87.33                 22.39         275.5  "
      ]
     },
     "execution_count": 19,
     "metadata": {},
     "output_type": "execute_result"
    }
   ],
   "source": [
    "# pile caps \n",
    "pc1 = ComponentReportClass(2*ft, 4*ft, 4*ft) # reported in ft!\n",
    "\n",
    "pc2 = ComponentReportClass(2*ft + 9*inc, \n",
    "                            17*ft + 2*inc, \n",
    "                            10*ft + 6*inc) \n",
    "pc1.calc_rebar(14, rebar_dict[\"num_5\"]) \n",
    "pc2.calc_rebar(14+16, rebar_dict[\"num_5\"])\n",
    "pc1.calc_rebar_template(pilecap=True)\n",
    "pc2.calc_rebar_template(pilecap=True)\n",
    "\n",
    "pc = calc_component_totals([pc1, pc2], lambda list, key: 2*list[0][key] + list[1][key] )\n",
    "\n",
    "to_df(pc)"
   ]
  },
  {
   "cell_type": "code",
   "execution_count": 20,
   "metadata": {},
   "outputs": [
    {
     "data": {
      "text/html": [
       "<div>\n",
       "<style scoped>\n",
       "    .dataframe tbody tr th:only-of-type {\n",
       "        vertical-align: middle;\n",
       "    }\n",
       "\n",
       "    .dataframe tbody tr th {\n",
       "        vertical-align: top;\n",
       "    }\n",
       "\n",
       "    .dataframe thead th {\n",
       "        text-align: right;\n",
       "    }\n",
       "</style>\n",
       "<table border=\"1\" class=\"dataframe\">\n",
       "  <thead>\n",
       "    <tr style=\"text-align: right;\">\n",
       "      <th></th>\n",
       "      <th>subgrade [foot ** 2]</th>\n",
       "      <th>excavation [yard ** 3]</th>\n",
       "      <th>formwork [foot ** 2]</th>\n",
       "      <th>rebar_template [foot]</th>\n",
       "      <th>concrete [yard ** 3]</th>\n",
       "      <th>rebar [foot]</th>\n",
       "    </tr>\n",
       "  </thead>\n",
       "  <tbody>\n",
       "    <tr>\n",
       "      <th>0</th>\n",
       "      <td>94.38</td>\n",
       "      <td>1.12</td>\n",
       "      <td>64.25</td>\n",
       "      <td>30.12</td>\n",
       "      <td>1.21</td>\n",
       "      <td>217.0</td>\n",
       "    </tr>\n",
       "  </tbody>\n",
       "</table>\n",
       "</div>"
      ],
      "text/plain": [
       "   subgrade [foot ** 2]  excavation [yard ** 3]  formwork [foot ** 2]  \\\n",
       "0                 94.38                    1.12                 64.25   \n",
       "\n",
       "   rebar_template [foot]  concrete [yard ** 3]  rebar [foot]  \n",
       "0                  30.12                  1.21         217.0  "
      ]
     },
     "execution_count": 20,
     "metadata": {},
     "output_type": "execute_result"
    }
   ],
   "source": [
    "# gradebeams\n",
    "gb_length = 6 * (2*ft + (6*inc + (1/8)*inc))\n",
    "gb_width = gb_height = (12*inc).to(\"feet\")\n",
    "gb1 = ComponentReportClass(gb_width, gb_length,  gb_height) \n",
    "gb1.calc_rebar([6,80], [rebar_dict[\"num_5\"], 1*ft])\n",
    "gb1.calc_rebar_template(pilecap=False)\n",
    "gb = calc_component_totals([gb1], lambda list, key: 2*list[0][key])\n",
    "to_df(gb)"
   ]
  },
  {
   "cell_type": "markdown",
   "metadata": {},
   "source": [
    "# calc all component totals"
   ]
  },
  {
   "cell_type": "code",
   "execution_count": 12,
   "metadata": {},
   "outputs": [
    {
     "data": {
      "text/html": [
       "<div>\n",
       "<style scoped>\n",
       "    .dataframe tbody tr th:only-of-type {\n",
       "        vertical-align: middle;\n",
       "    }\n",
       "\n",
       "    .dataframe tbody tr th {\n",
       "        vertical-align: top;\n",
       "    }\n",
       "\n",
       "    .dataframe thead th {\n",
       "        text-align: right;\n",
       "    }\n",
       "</style>\n",
       "<table border=\"1\" class=\"dataframe\">\n",
       "  <thead>\n",
       "    <tr style=\"text-align: right;\">\n",
       "      <th></th>\n",
       "      <th>subgrade [foot ** 2]</th>\n",
       "      <th>excavation [yard ** 3]</th>\n",
       "      <th>formwork [foot ** 2]</th>\n",
       "      <th>rebar_template [foot]</th>\n",
       "      <th>concrete [yard ** 3]</th>\n",
       "      <th>rebar [foot]</th>\n",
       "    </tr>\n",
       "  </thead>\n",
       "  <tbody>\n",
       "    <tr>\n",
       "      <th>0</th>\n",
       "      <td>522.79</td>\n",
       "      <td>21.84</td>\n",
       "      <td>280.42</td>\n",
       "      <td>0</td>\n",
       "      <td>23.59</td>\n",
       "      <td>492.5</td>\n",
       "    </tr>\n",
       "  </tbody>\n",
       "</table>\n",
       "</div>"
      ],
      "text/plain": [
       "   subgrade [foot ** 2]  excavation [yard ** 3]  formwork [foot ** 2]  \\\n",
       "0                522.79                   21.84                280.42   \n",
       "\n",
       "   rebar_template [foot]  concrete [yard ** 3]  rebar [foot]  \n",
       "0                      0                 23.59         492.5  "
      ]
     },
     "execution_count": 12,
     "metadata": {},
     "output_type": "execute_result"
    }
   ],
   "source": [
    "# all \n",
    "def fx(list, key):\n",
    "    # 2* pc1 + 1*pc2 * 2*gb1\n",
    "   return 2*list[0][key] + list[1][key] + 2*list[2][key]\n",
    "\n",
    "t = calc_component_totals([pc1, pc2, gb1], fx) # TODO update excel!!!\n",
    "to_df(t)"
   ]
  },
  {
   "cell_type": "markdown",
   "metadata": {},
   "source": [
    "# Elevator pit "
   ]
  },
  {
   "cell_type": "markdown",
   "metadata": {},
   "source": [
    "- subgrade prep => outer surfaces of walls \n",
    "- excavation => enclosed volume + steping, (18\" minimum depth, 1:2 ratio)\n",
    "- formwork =>  outer + inner surfaces of walls \n",
    "- rebar template => ???\n",
    "- concrete => volume of walls, minus overlap\n",
    "- rebar => TODO \n"
   ]
  },
  {
   "cell_type": "code",
   "execution_count": 42,
   "metadata": {},
   "outputs": [],
   "source": [
    "elev_walls = {\n",
    "    \"depth\" : 5*ft,\n",
    "    \"length\": 9*ft + 10*inc + (1/4)*inc,\n",
    "    \"width\": 7*ft + 2*inc + (7/8)*inc,\n",
    "    \"side_thickness\": 1*ft,\n",
    "    \"floor_thickness\": (10*inc).to(\"feet\"),\n",
    "}\n",
    "\n",
    "sump_walls = {\n",
    "    \"depth\" : 2*ft,\n",
    "    \"length\": 4*ft,\n",
    "    \"width\": 4*ft,\n",
    "    \"side_thickness\": (8*inc).to(\"feet\"),\n",
    "    \"floor_thickness\": 3*ft,\n",
    "}\n",
    "\n",
    "# component dictionary to fill \n",
    "ep = {\n",
    "    \"subgrade\": 0,\n",
    "    \"excavation\": 0,\n",
    "    \"formwork\": 0,\n",
    "    \"rebar_template\": 0,\n",
    "    \"concrete\": 0,\n",
    "    \"rebar\": 0\n",
    "}"
   ]
  },
  {
   "cell_type": "code",
   "execution_count": 22,
   "metadata": {},
   "outputs": [],
   "source": [
    "def calc_wall_areas(d):\n",
    "    wall_area = {\n",
    "    \"wide_sides\": d[\"length\"] * d[\"depth\"],\n",
    "    \"short_sides\": d[\"width\"] * d[\"depth\"],\n",
    "    \"floor\": d[\"length\"] * d[\"width\"]\n",
    "    }\n",
    "    return wall_area"
   ]
  },
  {
   "cell_type": "code",
   "execution_count": 26,
   "metadata": {},
   "outputs": [
    {
     "name": "stdout",
     "output_type": "stream",
     "text": [
      "{'wide_sides': <Quantity(49.2708333, 'foot ** 2')>, 'short_sides': <Quantity(36.1979167, 'foot ** 2')>, 'floor': <Quantity(71.3400608, 'foot ** 2')>} \n",
      " {'wide_sides': <Quantity(8, 'foot ** 2')>, 'short_sides': <Quantity(8, 'foot ** 2')>, 'floor': <Quantity(16, 'foot ** 2')>}\n"
     ]
    }
   ],
   "source": [
    "elev_wall_area = calc_wall_areas(elev_walls)\n",
    "sump_wall_area = calc_wall_areas(sump_walls)\n",
    "\n",
    "print(elev_wall_area, \"\\n\", sump_wall_area)"
   ]
  },
  {
   "cell_type": "markdown",
   "metadata": {},
   "source": [
    "subgrade and formwork "
   ]
  },
  {
   "cell_type": "code",
   "execution_count": 29,
   "metadata": {},
   "outputs": [],
   "source": [
    "side_walls_area = 2*elev_wall_area[\"wide_sides\"] + 2*elev_wall_area[\"short_sides\"] + 4*sump_wall_area[\"wide_sides\"] "
   ]
  },
  {
   "cell_type": "code",
   "execution_count": 49,
   "metadata": {},
   "outputs": [],
   "source": [
    "# subgrade prep \n",
    "# outer wall area = side wall areas for elev and sump + sump floor area + (elev floor - sump floor) area \n",
    "\n",
    "subgrade_prep_area = side_walls_area + sump_wall_area[\"floor\"] + ( elev_wall_area[\"floor\"] - sump_wall_area[\"floor\"])\n",
    "ep[\"subgrade\"] =  subgrade_prep_area"
   ]
  },
  {
   "cell_type": "code",
   "execution_count": 50,
   "metadata": {},
   "outputs": [],
   "source": [
    "# formwork \n",
    "# formwork area = 2* side wall values... and no bottom values, technically inner formwork is smaller than outer \n",
    "formwork_area = 2*side_walls_area\n",
    "ep[\"formwork\"] = formwork_area"
   ]
  },
  {
   "cell_type": "markdown",
   "metadata": {},
   "source": [
    "concrete "
   ]
  },
  {
   "cell_type": "code",
   "execution_count": 56,
   "metadata": {},
   "outputs": [],
   "source": [
    "# concrete -> calc wall volume and sum, then subtract volume of sump pit floor because it is taken out of elevator pit floor \n",
    "\n",
    "def calc_wall_volumes(d):\n",
    "    return {\n",
    "    \"wide_sides\": (d[\"length\"] * d[\"depth\"] * d[\"side_thickness\"]).to(\"yard ** 3\") ,\n",
    "    \"short_sides\": (d[\"width\"] * d[\"depth\"] * d[\"side_thickness\"]).to(\"yard ** 3\"),\n",
    "    \"floor\": (d[\"length\"] * d[\"width\"] * d[\"floor_thickness\"]).to(\"yard ** 3\")\n",
    "    }"
   ]
  },
  {
   "cell_type": "code",
   "execution_count": 58,
   "metadata": {},
   "outputs": [
    {
     "name": "stdout",
     "output_type": "stream",
     "text": [
      "{'wide_sides': <Quantity(1.82484568, 'yard ** 3')>, 'short_sides': <Quantity(1.34066358, 'yard ** 3')>, 'floor': <Quantity(2.20185373, 'yard ** 3')>} \n",
      " {'wide_sides': <Quantity(0.197530864, 'yard ** 3')>, 'short_sides': <Quantity(0.197530864, 'yard ** 3')>, 'floor': <Quantity(1.77777778, 'yard ** 3')>}\n"
     ]
    }
   ],
   "source": [
    "elev_volumes  = calc_wall_volumes(elev_walls)\n",
    "sump_volumes = calc_wall_volumes(sump_walls)\n",
    "\n",
    "print(elev_volumes, \"\\n\", sump_volumes)"
   ]
  },
  {
   "cell_type": "code",
   "execution_count": 60,
   "metadata": {},
   "outputs": [],
   "source": [
    "side_volumes = 2*elev_volumes[\"wide_sides\"] + 2*elev_volumes[\"short_sides\"] + 4* sump_volumes[\"wide_sides\"]\n",
    "\n",
    "floor_volumes = (elev_volumes[\"floor\"] - sump_volumes[\"floor\"]) + sump_volumes[\"floor\"]\n",
    "\n",
    "concrete_volume =  side_volumes + floor_volumes\n",
    "\n",
    "ep[\"concrete\"] = concrete_volume*1.08 # for errors "
   ]
  },
  {
   "cell_type": "markdown",
   "metadata": {},
   "source": [
    "excavation "
   ]
  },
  {
   "cell_type": "code",
   "execution_count": null,
   "metadata": {},
   "outputs": [],
   "source": []
  },
  {
   "cell_type": "code",
   "execution_count": 61,
   "metadata": {},
   "outputs": [
    {
     "data": {
      "text/plain": [
       "{'subgrade': 274.2775607638889 <Unit('foot ** 2')>,\n",
       " 'excavation': 0,\n",
       " 'formwork': 405.87500000000006 <Unit('foot ** 2')>,\n",
       " 'rebar_template': 0,\n",
       " 'concrete': 9.322995702589164 <Unit('yard ** 3')>,\n",
       " 'rebar': 0}"
      ]
     },
     "execution_count": 61,
     "metadata": {},
     "output_type": "execute_result"
    }
   ],
   "source": [
    "ep"
   ]
  }
 ],
 "metadata": {
  "kernelspec": {
   "display_name": "Python 3.9.15 ('cee240venv': venv)",
   "language": "python",
   "name": "python3"
  },
  "language_info": {
   "codemirror_mode": {
    "name": "ipython",
    "version": 3
   },
   "file_extension": ".py",
   "mimetype": "text/x-python",
   "name": "python",
   "nbconvert_exporter": "python",
   "pygments_lexer": "ipython3",
   "version": "3.9.15"
  },
  "orig_nbformat": 4,
  "vscode": {
   "interpreter": {
    "hash": "108be5293efb78f5c68d36bcaf04a6ab425d5c7c567eba55933326b0c1d273fd"
   }
  }
 },
 "nbformat": 4,
 "nbformat_minor": 2
}
