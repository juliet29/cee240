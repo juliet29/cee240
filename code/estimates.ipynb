{
 "cells": [
  {
   "cell_type": "code",
   "execution_count": 2,
   "metadata": {},
   "outputs": [],
   "source": [
    "from pint import UnitRegistry\n",
    "import pandas as pd\n"
   ]
  },
  {
   "cell_type": "markdown",
   "metadata": {},
   "source": [
    "# helpef functions, constants, etc "
   ]
  },
  {
   "cell_type": "code",
   "execution_count": 68,
   "metadata": {},
   "outputs": [],
   "source": [
    "class ComponentReportClass:\n",
    "    def __init__(self, depth, length, width):\n",
    "        self.depth = depth\n",
    "        self.length = length\n",
    "        self.width = width \n",
    "        self.rebar = None\n",
    "        self.rebar_temp_length = None\n",
    "    # dimensional calcs   \n",
    "    def calc_volume(self):\n",
    "        return (self.depth).to(\"yards\") * (self.width).to(\"yards\") * (self.length).to(\"yards\")\n",
    "    def calc_top_face_area(self):\n",
    "        return self.length * self.width \n",
    "    def calc_sides_face_area(self):\n",
    "        return 2 * (self.depth * self.width ) + 2 * (self.depth * self.length )\n",
    "    # conversion calcs\n",
    "    def to_cubic_yards(a):\n",
    "        return a/27\n",
    "\n",
    "    # basic work calcs\n",
    "    def calc_subgrade_prep(self):\n",
    "        bottom = self.calc_top_face_area()\n",
    "        sides = self.calc_sides_face_area()\n",
    "        return bottom + sides\n",
    "    def calc_formwork(self):\n",
    "        return self.calc_sides_face_area()\n",
    "    def calc_excavation(self):\n",
    "        # TODO add benching...\n",
    "        return self.calc_volume()\n",
    "    def calc_concrete(self):\n",
    "        return self.calc_volume()* 1.08\n",
    "\n",
    "\n",
    "    # rebar calcs\n",
    "    def calc_rebar(self, quant, length):\n",
    "        \"\"\"quant and length need to be arrays \"\"\"\n",
    "        quant = to_list(quant)\n",
    "        length = to_list(length)\n",
    "\n",
    "        h = [a*b for a,b in zip(quant, length)]\n",
    "        self.rebar = sum(h)*1.20\n",
    "        return self.rebar\n",
    "\n",
    "    def calc_rebar_template(self, pilecap=False):\n",
    "        \"\"\"quant and length need to be arrays \"\"\"\n",
    "        rebar_temp_length = 0\n",
    "        if pilecap==True:\n",
    "            rebar_temp_length = self.length * 2 + self.width * 2\n",
    "        else:\n",
    "            rebar_temp_length = self.length\n",
    "\n",
    "        self.rebar_temp_length = rebar_temp_length\n",
    "        return self.rebar_temp_length\n",
    "\n",
    "    # reports\n",
    "    def report_basic(self):\n",
    "        report = {\n",
    "            \"subgrade\": self.calc_subgrade_prep(),\n",
    "            \"excavation\": self.calc_excavation(),\n",
    "            \"formwork\": self.calc_formwork(),\n",
    "            \"rebar_template\": self.rebar_temp_length if self.rebar_temp_length else 0*ft,\n",
    "            \"concrete\": self.calc_concrete(),\n",
    "            \"rebar\": self.rebar if self.rebar else 0*ft\n",
    "        }\n",
    "        return report \n",
    "\n",
    "\n",
    "    "
   ]
  },
  {
   "cell_type": "code",
   "execution_count": 176,
   "metadata": {},
   "outputs": [],
   "source": [
    "u = UnitRegistry()\n",
    "ft = u.feet\n",
    "inc = u.inches\n",
    "lbs = u.pounds\n",
    "\n",
    "def to_list(a):\n",
    "    a = [a] if type(a) != list else a\n",
    "    return a\n",
    "\n",
    "def calc_component_totals(components, fx):\n",
    "    \"\"\"components are defined components\n",
    "    fx is a function that takes in a list of components \"\"\"\n",
    "    c_reports = [c.report_basic() for c in components]\n",
    "\n",
    "    sum_components = {}\n",
    "    for k in c_reports[0].keys():\n",
    "        sum_components[k] = fx(c_reports, k)\n",
    "\n",
    "    return sum_components\n",
    "\n",
    "def to_df(a_dict):\n",
    "    t1 = { f\"{k} [{str(v.units)}]\": round(v.magnitude,2) for k,v in a_dict.items()}\n",
    "    return pd.DataFrame(t1, index=[0])"
   ]
  },
  {
   "cell_type": "code",
   "execution_count": 177,
   "metadata": {},
   "outputs": [
    {
     "data": {
      "text/html": [
       "8 pound/foot"
      ],
      "text/latex": [
       "$8\\ \\frac{\\mathrm{pound}}{\\mathrm{foot}}$"
      ],
      "text/plain": [
       "8 <Unit('pound / foot')>"
      ]
     },
     "execution_count": 177,
     "metadata": {},
     "output_type": "execute_result"
    }
   ],
   "source": [
    "(8) * (u.pounds/ u.foot)"
   ]
  },
  {
   "cell_type": "markdown",
   "metadata": {},
   "source": [
    "rebar types"
   ]
  },
  {
   "cell_type": "code",
   "execution_count": 178,
   "metadata": {},
   "outputs": [],
   "source": [
    "rebar_dict = {\n",
    "    \"4\" : 0.668 * (lbs/ft),\n",
    "    \"5\" : 1.043 * (lbs/ft),\n",
    "    \"6\": 1.502* (lbs/ft),\n",
    "    \"9\": 3.4 * (lbs/ft)\n",
    "}"
   ]
  },
  {
   "cell_type": "code",
   "execution_count": 179,
   "metadata": {},
   "outputs": [],
   "source": [
    "def calc_wall_rebar(spacing, rtype, l1, l2):\n",
    "    \"\"\" input integers in inches  \"\"\"\n",
    "    spacing = (spacing*inc).to(\"feet\")\n",
    "    a = (l1 / spacing) * l2\n",
    "    b = (l2 / spacing) * l1\n",
    "    weight = rebar_dict[str(rtype)] * (a + b)\n",
    "    return weight"
   ]
  },
  {
   "cell_type": "markdown",
   "metadata": {},
   "source": [
    "# Start Calcs"
   ]
  },
  {
   "cell_type": "markdown",
   "metadata": {},
   "source": [
    "pile caps"
   ]
  },
  {
   "cell_type": "code",
   "execution_count": 180,
   "metadata": {},
   "outputs": [
    {
     "data": {
      "text/html": [
       "55.333333333333336 foot"
      ],
      "text/latex": [
       "$55.333333333333336\\ \\mathrm{foot}$"
      ],
      "text/plain": [
       "55.333333333333336 <Unit('foot')>"
      ]
     },
     "execution_count": 180,
     "metadata": {},
     "output_type": "execute_result"
    }
   ],
   "source": [
    "# pile caps \n",
    "pc1 = ComponentReportClass(2*ft, 4*ft, 4*ft) # reported in ft!\n",
    "\n",
    "pc2 = ComponentReportClass(2*ft + 9*inc, \n",
    "                            17*ft + 2*inc, \n",
    "                            10*ft + 6*inc) \n",
    "# pc1.calc_rebar([16, 16], [rebar_dict[\"5\"], rebar_dict[\"5\"]]) \n",
    "# pc2.calc_rebar([14+16, 16], [rebar_dict[\"5\"], rebar_dict[\"5\"]])\n",
    "pc1.calc_rebar_template(pilecap=True)\n",
    "pc2.calc_rebar_template(pilecap=True)\n",
    "\n",
    "\n"
   ]
  },
  {
   "cell_type": "code",
   "execution_count": 181,
   "metadata": {},
   "outputs": [
    {
     "data": {
      "text/html": [
       "<div>\n",
       "<style scoped>\n",
       "    .dataframe tbody tr th:only-of-type {\n",
       "        vertical-align: middle;\n",
       "    }\n",
       "\n",
       "    .dataframe tbody tr th {\n",
       "        vertical-align: top;\n",
       "    }\n",
       "\n",
       "    .dataframe thead th {\n",
       "        text-align: right;\n",
       "    }\n",
       "</style>\n",
       "<table border=\"1\" class=\"dataframe\">\n",
       "  <thead>\n",
       "    <tr style=\"text-align: right;\">\n",
       "      <th></th>\n",
       "      <th>subgrade [foot ** 2]</th>\n",
       "      <th>excavation [yard ** 3]</th>\n",
       "      <th>formwork [foot ** 2]</th>\n",
       "      <th>rebar_template [foot]</th>\n",
       "      <th>concrete [yard ** 3]</th>\n",
       "      <th>rebar [pound]</th>\n",
       "    </tr>\n",
       "  </thead>\n",
       "  <tbody>\n",
       "    <tr>\n",
       "      <th>0</th>\n",
       "      <td>428.42</td>\n",
       "      <td>20.73</td>\n",
       "      <td>216.17</td>\n",
       "      <td>87.33</td>\n",
       "      <td>22.39</td>\n",
       "      <td>1537.49</td>\n",
       "    </tr>\n",
       "  </tbody>\n",
       "</table>\n",
       "</div>"
      ],
      "text/plain": [
       "   subgrade [foot ** 2]  excavation [yard ** 3]  formwork [foot ** 2]  \\\n",
       "0                428.42                   20.73                216.17   \n",
       "\n",
       "   rebar_template [foot]  concrete [yard ** 3]  rebar [pound]  \n",
       "0                  87.33                 22.39        1537.49  "
      ]
     },
     "execution_count": 181,
     "metadata": {},
     "output_type": "execute_result"
    }
   ],
   "source": [
    "# pc_1 rebar \n",
    "\n",
    "# A and C -> (8) #9\n",
    "# B and D -> (8) #9\n",
    "spacing = 12*ft\n",
    "pc1_length = 4*ft\n",
    "pc1_rebar = {\n",
    "    \"ac\" : 8 * rebar_dict[\"9\"] * 4*ft,\n",
    "    \"bd\" : 8 * rebar_dict[\"9\"] * 4*ft,\n",
    "    \"s_up\": pc1_length/spacing * rebar_dict[\"5\"] * 2*ft,\n",
    "    \"s_mid\": pc1_length/spacing * rebar_dict[\"5\"] * 8*ft,\n",
    "    \"s_bot\": pc1_length/spacing * rebar_dict[\"5\"] * 6*ft,\n",
    "}\n",
    "\n",
    "pc6_length = 17*ft + 2*inc\n",
    "pc6_width = 10*ft + 6*inc\n",
    "pc6_depth = 2*ft + 9*inc\n",
    "\n",
    "pc6_rebar = {\n",
    "    \"ac\" : 8 * rebar_dict[\"9\"] * pc6_length,\n",
    "    \"bd\" : 8 * rebar_dict[\"9\"] * pc6_width,\n",
    "    \"s_up\": (pc6_length/spacing) * rebar_dict[\"5\"] * 2*ft,\n",
    "    \"s_mid\": (pc6_length/spacing) * rebar_dict[\"5\"] * (pc6_length * 1.7),\n",
    "    \"s_bot\": (pc6_length/spacing) * rebar_dict[\"5\"] * (pc6_length * 1.4),\n",
    "}\n",
    "\n",
    "\n",
    "\n",
    "pc1.rebar = sum(pc1_rebar.values())*1.2\n",
    "pc2.rebar = sum(pc6_rebar.values())*1.2\n",
    "pc = calc_component_totals([pc1, pc2], lambda list, key: 2*list[0][key] + list[1][key] )\n",
    "to_df(pc)\n"
   ]
  },
  {
   "cell_type": "markdown",
   "metadata": {},
   "source": [
    "grade beams "
   ]
  },
  {
   "cell_type": "code",
   "execution_count": 183,
   "metadata": {},
   "outputs": [],
   "source": [
    "# gradebeams\n",
    "gb_length = 6 * (2*ft + (6*inc + (1/8)*inc))\n",
    "gb_width = gb_height = (12*inc).to(\"feet\")\n",
    "gb1 = ComponentReportClass(gb_width, gb_length,  gb_height) \n"
   ]
  },
  {
   "cell_type": "code",
   "execution_count": 184,
   "metadata": {},
   "outputs": [],
   "source": [
    "\n",
    "gb_rebar = {\n",
    "    \"bottom\" : 4*2 * rebar_dict[\"5\"] * gb_length,\n",
    "    \"left_and_right\" : 4*4 * rebar_dict[\"5\"] * gb_width,\n",
    "    \"interior\": 40*(gb_length/spacing) * rebar_dict[\"4\"] * gb_length,\n",
    "}\n",
    "\n",
    "gb1.rebar = sum(gb_rebar.values())*1.2"
   ]
  },
  {
   "cell_type": "code",
   "execution_count": 185,
   "metadata": {},
   "outputs": [
    {
     "data": {
      "text/html": [
       "<div>\n",
       "<style scoped>\n",
       "    .dataframe tbody tr th:only-of-type {\n",
       "        vertical-align: middle;\n",
       "    }\n",
       "\n",
       "    .dataframe tbody tr th {\n",
       "        vertical-align: top;\n",
       "    }\n",
       "\n",
       "    .dataframe thead th {\n",
       "        text-align: right;\n",
       "    }\n",
       "</style>\n",
       "<table border=\"1\" class=\"dataframe\">\n",
       "  <thead>\n",
       "    <tr style=\"text-align: right;\">\n",
       "      <th></th>\n",
       "      <th>subgrade [foot ** 2]</th>\n",
       "      <th>excavation [yard ** 3]</th>\n",
       "      <th>formwork [foot ** 2]</th>\n",
       "      <th>rebar_template [foot]</th>\n",
       "      <th>concrete [yard ** 3]</th>\n",
       "      <th>rebar [pound]</th>\n",
       "    </tr>\n",
       "  </thead>\n",
       "  <tbody>\n",
       "    <tr>\n",
       "      <th>0</th>\n",
       "      <td>94.38</td>\n",
       "      <td>1.12</td>\n",
       "      <td>64.25</td>\n",
       "      <td>30.12</td>\n",
       "      <td>1.21</td>\n",
       "      <td>1554.13</td>\n",
       "    </tr>\n",
       "  </tbody>\n",
       "</table>\n",
       "</div>"
      ],
      "text/plain": [
       "   subgrade [foot ** 2]  excavation [yard ** 3]  formwork [foot ** 2]  \\\n",
       "0                 94.38                    1.12                 64.25   \n",
       "\n",
       "   rebar_template [foot]  concrete [yard ** 3]  rebar [pound]  \n",
       "0                  30.12                  1.21        1554.13  "
      ]
     },
     "execution_count": 185,
     "metadata": {},
     "output_type": "execute_result"
    }
   ],
   "source": [
    "\n",
    "gb1.calc_rebar_template(pilecap=False)\n",
    "gb = calc_component_totals([gb1], lambda list, key: 2*list[0][key])\n",
    "to_df(gb)"
   ]
  },
  {
   "cell_type": "markdown",
   "metadata": {},
   "source": [
    "# calc all component totals"
   ]
  },
  {
   "cell_type": "code",
   "execution_count": null,
   "metadata": {},
   "outputs": [
    {
     "data": {
      "text/html": [
       "<div>\n",
       "<style scoped>\n",
       "    .dataframe tbody tr th:only-of-type {\n",
       "        vertical-align: middle;\n",
       "    }\n",
       "\n",
       "    .dataframe tbody tr th {\n",
       "        vertical-align: top;\n",
       "    }\n",
       "\n",
       "    .dataframe thead th {\n",
       "        text-align: right;\n",
       "    }\n",
       "</style>\n",
       "<table border=\"1\" class=\"dataframe\">\n",
       "  <thead>\n",
       "    <tr style=\"text-align: right;\">\n",
       "      <th></th>\n",
       "      <th>subgrade [foot ** 2]</th>\n",
       "      <th>excavation [yard ** 3]</th>\n",
       "      <th>formwork [foot ** 2]</th>\n",
       "      <th>rebar_template [foot]</th>\n",
       "      <th>concrete [yard ** 3]</th>\n",
       "      <th>rebar [foot]</th>\n",
       "    </tr>\n",
       "  </thead>\n",
       "  <tbody>\n",
       "    <tr>\n",
       "      <th>0</th>\n",
       "      <td>522.79</td>\n",
       "      <td>21.84</td>\n",
       "      <td>280.42</td>\n",
       "      <td>0</td>\n",
       "      <td>23.59</td>\n",
       "      <td>492.5</td>\n",
       "    </tr>\n",
       "  </tbody>\n",
       "</table>\n",
       "</div>"
      ],
      "text/plain": [
       "   subgrade [foot ** 2]  excavation [yard ** 3]  formwork [foot ** 2]  \\\n",
       "0                522.79                   21.84                280.42   \n",
       "\n",
       "   rebar_template [foot]  concrete [yard ** 3]  rebar [foot]  \n",
       "0                      0                 23.59         492.5  "
      ]
     },
     "execution_count": 12,
     "metadata": {},
     "output_type": "execute_result"
    }
   ],
   "source": [
    "# all \n",
    "def fx(list, key):\n",
    "    # 2* pc1 + 1*pc2 * 2*gb1\n",
    "   return 2*list[0][key] + list[1][key] + 2*list[2][key]\n",
    "\n",
    "t = calc_component_totals([pc1, pc2, gb1], fx) # TODO update excel!!!\n",
    "to_df(t)"
   ]
  },
  {
   "cell_type": "markdown",
   "metadata": {},
   "source": [
    "# Elevator pit "
   ]
  },
  {
   "cell_type": "markdown",
   "metadata": {},
   "source": [
    "- subgrade prep => outer surfaces of walls \n",
    "- excavation => enclosed volume + steping, (18\" minimum depth, 1:2 ratio)\n",
    "- formwork =>  outer + inner surfaces of walls \n",
    "- rebar template => ???\n",
    "- concrete => volume of walls, minus overlap\n",
    "- rebar => TODO \n"
   ]
  },
  {
   "cell_type": "code",
   "execution_count": null,
   "metadata": {},
   "outputs": [],
   "source": [
    "elev_walls = {\n",
    "    \"depth\" : 5*ft,\n",
    "    \"length\": 9*ft + 10*inc + (1/4)*inc,\n",
    "    \"width\": 7*ft + 2*inc + (7/8)*inc,\n",
    "    \"side_thickness\": 1*ft,\n",
    "    \"floor_thickness\": (10*inc).to(\"feet\"),\n",
    "}\n",
    "\n",
    "sump_walls = {\n",
    "    \"depth\" : 2*ft,\n",
    "    \"length\": 4*ft,\n",
    "    \"width\": 4*ft,\n",
    "    \"side_thickness\": (8*inc).to(\"feet\"),\n",
    "    \"floor_thickness\": 3*ft,\n",
    "}\n",
    "\n",
    "# component dictionary to fill \n",
    "ep = {\n",
    "    \"subgrade\": 0,\n",
    "    \"excavation\": 0,\n",
    "    \"formwork\": 0,\n",
    "    \"rebar_template\": 0,\n",
    "    \"concrete\": 0,\n",
    "    \"rebar\": 0\n",
    "}"
   ]
  },
  {
   "cell_type": "code",
   "execution_count": null,
   "metadata": {},
   "outputs": [],
   "source": [
    "def calc_wall_areas(d):\n",
    "    wall_area = {\n",
    "    \"wide_sides\": d[\"length\"] * d[\"depth\"],\n",
    "    \"short_sides\": d[\"width\"] * d[\"depth\"],\n",
    "    \"floor\": d[\"length\"] * d[\"width\"]\n",
    "    }\n",
    "    return wall_area"
   ]
  },
  {
   "cell_type": "code",
   "execution_count": null,
   "metadata": {},
   "outputs": [
    {
     "name": "stdout",
     "output_type": "stream",
     "text": [
      "{'wide_sides': <Quantity(49.2708333, 'foot ** 2')>, 'short_sides': <Quantity(36.1979167, 'foot ** 2')>, 'floor': <Quantity(71.3400608, 'foot ** 2')>} \n",
      " {'wide_sides': <Quantity(8, 'foot ** 2')>, 'short_sides': <Quantity(8, 'foot ** 2')>, 'floor': <Quantity(16, 'foot ** 2')>}\n"
     ]
    }
   ],
   "source": [
    "elev_wall_area = calc_wall_areas(elev_walls)\n",
    "sump_wall_area = calc_wall_areas(sump_walls)\n",
    "\n",
    "print(elev_wall_area, \"\\n\", sump_wall_area)"
   ]
  },
  {
   "cell_type": "markdown",
   "metadata": {},
   "source": [
    "subgrade and formwork "
   ]
  },
  {
   "cell_type": "code",
   "execution_count": null,
   "metadata": {},
   "outputs": [],
   "source": [
    "side_walls_area = 2*elev_wall_area[\"wide_sides\"] + 2*elev_wall_area[\"short_sides\"] + 4*sump_wall_area[\"wide_sides\"] "
   ]
  },
  {
   "cell_type": "code",
   "execution_count": null,
   "metadata": {},
   "outputs": [],
   "source": [
    "# subgrade prep \n",
    "# outer wall area = side wall areas for elev and sump + sump floor area + (elev floor - sump floor) area \n",
    "\n",
    "subgrade_prep_area = side_walls_area + sump_wall_area[\"floor\"] + ( elev_wall_area[\"floor\"] - sump_wall_area[\"floor\"])\n",
    "ep[\"subgrade\"] =  subgrade_prep_area"
   ]
  },
  {
   "cell_type": "code",
   "execution_count": null,
   "metadata": {},
   "outputs": [],
   "source": [
    "# formwork \n",
    "# formwork area = 2* side wall values... and no bottom values, technically inner formwork is smaller than outer \n",
    "formwork_area = 2*side_walls_area\n",
    "ep[\"formwork\"] = formwork_area"
   ]
  },
  {
   "cell_type": "markdown",
   "metadata": {},
   "source": [
    "concrete "
   ]
  },
  {
   "cell_type": "code",
   "execution_count": null,
   "metadata": {},
   "outputs": [],
   "source": [
    "# concrete -> calc wall volume and sum, then subtract volume of sump pit floor because it is taken out of elevator pit floor \n",
    "\n",
    "def calc_wall_volumes(d):\n",
    "    return {\n",
    "    \"wide_sides\": (d[\"length\"] * d[\"depth\"] * d[\"side_thickness\"]).to(\"yard ** 3\") ,\n",
    "    \"short_sides\": (d[\"width\"] * d[\"depth\"] * d[\"side_thickness\"]).to(\"yard ** 3\"),\n",
    "    \"floor\": (d[\"length\"] * d[\"width\"] * d[\"floor_thickness\"]).to(\"yard ** 3\")\n",
    "    }"
   ]
  },
  {
   "cell_type": "code",
   "execution_count": null,
   "metadata": {},
   "outputs": [
    {
     "name": "stdout",
     "output_type": "stream",
     "text": [
      "{'wide_sides': <Quantity(1.82484568, 'yard ** 3')>, 'short_sides': <Quantity(1.34066358, 'yard ** 3')>, 'floor': <Quantity(2.20185373, 'yard ** 3')>} \n",
      " {'wide_sides': <Quantity(0.197530864, 'yard ** 3')>, 'short_sides': <Quantity(0.197530864, 'yard ** 3')>, 'floor': <Quantity(1.77777778, 'yard ** 3')>}\n"
     ]
    }
   ],
   "source": [
    "elev_volumes  = calc_wall_volumes(elev_walls)\n",
    "sump_volumes = calc_wall_volumes(sump_walls)\n",
    "\n",
    "print(elev_volumes, \"\\n\", sump_volumes)"
   ]
  },
  {
   "cell_type": "code",
   "execution_count": null,
   "metadata": {},
   "outputs": [
    {
     "data": {
      "text/html": [
       "10.068835358796298 yard<sup>3</sup>"
      ],
      "text/latex": [
       "$10.068835358796298\\ \\mathrm{yard}^{3}$"
      ],
      "text/plain": [
       "10.068835358796298 <Unit('yard ** 3')>"
      ]
     },
     "execution_count": 125,
     "metadata": {},
     "output_type": "execute_result"
    }
   ],
   "source": [
    "side_volumes = 2*elev_volumes[\"wide_sides\"] + 2*elev_volumes[\"short_sides\"] + 4* sump_volumes[\"wide_sides\"]\n",
    "\n",
    "floor_volumes = (elev_volumes[\"floor\"] - sump_volumes[\"floor\"]) + sump_volumes[\"floor\"]\n",
    "\n",
    "concrete_volume =  side_volumes + floor_volumes\n",
    "\n",
    "ep[\"concrete\"] = concrete_volume*1.08 # for errors \n",
    "ep[\"concrete\"] "
   ]
  },
  {
   "cell_type": "markdown",
   "metadata": {},
   "source": [
    "excavation "
   ]
  },
  {
   "cell_type": "code",
   "execution_count": null,
   "metadata": {},
   "outputs": [],
   "source": [
    "import math"
   ]
  },
  {
   "cell_type": "code",
   "execution_count": null,
   "metadata": {},
   "outputs": [],
   "source": [
    "# required benching, every 18\" \n",
    "total_depth = sump_walls[\"depth\"] + sump_walls[\"floor_thickness\"] + elev_walls[\"depth\"] + elev_walls[\"floor_thickness\"]\n",
    "bench_depth = (18*inc).to(\"feet\")"
   ]
  },
  {
   "cell_type": "code",
   "execution_count": null,
   "metadata": {},
   "outputs": [
    {
     "data": {
      "text/html": [
       "162.0 foot<sup>2</sup>"
      ],
      "text/latex": [
       "$162.0\\ \\mathrm{foot}^{2}$"
      ],
      "text/plain": [
       "162.0 <Unit('foot ** 2')>"
      ]
     },
     "execution_count": 128,
     "metadata": {},
     "output_type": "execute_result"
    }
   ],
   "source": [
    "bench_area = bench_depth * (2*bench_depth)\n",
    "steps = math.ceil(total_depth / bench_depth)\n",
    "side_bench_area = sum(range(steps+1)) * bench_area\n",
    "side_bench_area"
   ]
  },
  {
   "cell_type": "code",
   "execution_count": null,
   "metadata": {},
   "outputs": [],
   "source": [
    "bench_volume = 2 * side_bench_area * elev_walls[\"length\"] + 2 * side_bench_area * elev_walls[\"width\"] \n",
    "bench_volume = bench_volume.to(\"yards ** 3\")"
   ]
  },
  {
   "cell_type": "code",
   "execution_count": null,
   "metadata": {},
   "outputs": [],
   "source": [
    "inner_volume_elev = elev_walls[\"depth\"] * elev_walls[\"width\"] * elev_walls[\"length\"]\n",
    "inner_volume_sump = sump_walls[\"depth\"] * sump_walls[\"width\"] * sump_walls[\"length\"]\n",
    "inner_volume = (inner_volume_elev + inner_volume_sump).to(\"yards ** 3\")"
   ]
  },
  {
   "cell_type": "code",
   "execution_count": null,
   "metadata": {},
   "outputs": [],
   "source": [
    "excav_volume = bench_volume + inner_volume \n",
    "ep[\"excavation\"] = excav_volume"
   ]
  },
  {
   "cell_type": "markdown",
   "metadata": {},
   "source": [
    "rebar"
   ]
  },
  {
   "cell_type": "code",
   "execution_count": null,
   "metadata": {},
   "outputs": [
    {
     "data": {
      "text/plain": [
       "{'4': 0.668 <Unit('pound / foot')>,\n",
       " '5': 1.043 <Unit('pound / foot')>,\n",
       " '6': 1.502 <Unit('pound / foot')>}"
      ]
     },
     "execution_count": 140,
     "metadata": {},
     "output_type": "execute_result"
    }
   ],
   "source": [
    "# lbs/ft\n",
    "\n",
    "rebar_dict = {\n",
    "    \"4\" : 0.668 * (lbs/ft),\n",
    "    \"5\" : 1.043 * (lbs/ft),\n",
    "    \"6\": 1.502* (lbs/ft)\n",
    "}\n",
    "rebar_dict"
   ]
  },
  {
   "cell_type": "code",
   "execution_count": null,
   "metadata": {},
   "outputs": [],
   "source": [
    "def calc_wall_rebar(spacing, rtype, l1, l2):\n",
    "    \"\"\" input integers in inches  \"\"\"\n",
    "    spacing = (spacing*inc).to(\"feet\")\n",
    "    a = (l1 / spacing) * l2\n",
    "    b = (l2 / spacing) * l1\n",
    "    weight = rebar_dict[str(rtype)] * (a + b)\n",
    "    return weight\n"
   ]
  },
  {
   "cell_type": "code",
   "execution_count": null,
   "metadata": {},
   "outputs": [
    {
     "data": {
      "text/plain": [
       "{'floor': 190.62064236111115 <Unit('pound')>,\n",
       " 'wide': 411.1158333333334 <Unit('pound')>,\n",
       " 'short': 368.4947916666667 <Unit('pound')>}"
      ]
     },
     "execution_count": 146,
     "metadata": {},
     "output_type": "execute_result"
    }
   ],
   "source": [
    "# elevator \n",
    "elev_rebar = {\n",
    "\"floor\": 2*calc_wall_rebar(12, 4, elev_walls[\"length\"] , elev_walls[\"width\"] ),\n",
    "\"wide\": 2*calc_wall_rebar(12, 5, elev_walls[\"length\"] , elev_walls[\"depth\"] ),\n",
    "# two types of rebar in the short walls \n",
    "\"short\": calc_wall_rebar(12, 5, elev_walls[\"width\"] , elev_walls[\"depth\"] ) + calc_wall_rebar(12, 6, elev_walls[\"width\"] , elev_walls[\"depth\"] ),\n",
    "}\n",
    "# multiply for num walls \n",
    "elev_rebar[\"wide\"]*=2\n",
    "elev_rebar[\"short\"]*=2\n",
    "elev_rebar"
   ]
  },
  {
   "cell_type": "code",
   "execution_count": null,
   "metadata": {},
   "outputs": [
    {
     "data": {
      "text/plain": [
       "{'wide': 83.44 <Unit('pound')>,\n",
       " 'wide_2': 35.626666666666665 <Unit('pound')>,\n",
       " 'short': 120.36683333333335 <Unit('pound')>}"
      ]
     },
     "execution_count": 148,
     "metadata": {},
     "output_type": "execute_result"
    }
   ],
   "source": [
    "# ignore floor of sump pit (+/- assumption)\n",
    "sump_rebar = {\n",
    "\"wide\": 2*calc_wall_rebar(12, 5, sump_walls[\"length\"] , elev_walls[\"depth\"] ),\n",
    "# one wide wall has only one rebar \n",
    "\"wide_2\": calc_wall_rebar(9, 4, sump_walls[\"length\"] , elev_walls[\"depth\"] ),\n",
    "# two types of rebar in the short walls \n",
    "\"short\": calc_wall_rebar(12, 5, sump_walls[\"width\"] , sump_walls[\"depth\"] ) + calc_wall_rebar(12, 6, elev_walls[\"width\"] , sump_walls[\"depth\"] ), \n",
    "}\n",
    "sump_rebar[\"short\"]*=2\n",
    "sump_rebar"
   ]
  },
  {
   "cell_type": "code",
   "execution_count": null,
   "metadata": {},
   "outputs": [],
   "source": [
    "sum_rebar = sum(elev_rebar.values()) + sum(sump_rebar.values())\n",
    "ep[\"rebar\"] = sum_rebar*1.20"
   ]
  },
  {
   "cell_type": "markdown",
   "metadata": {},
   "source": [
    "### finish"
   ]
  },
  {
   "cell_type": "code",
   "execution_count": null,
   "metadata": {},
   "outputs": [
    {
     "data": {
      "text/plain": [
       "{'subgrade': 274.2775607638889 <Unit('foot ** 2')>,\n",
       " 'excavation': 219.52130754886832 <Unit('yard ** 3')>,\n",
       " 'formwork': 405.87500000000006 <Unit('foot ** 2')>,\n",
       " 'rebar_template': 0,\n",
       " 'concrete': 10.068835358796298 <Unit('yard ** 3')>,\n",
       " 'rebar': 1451.5977208333336 <Unit('pound')>}"
      ]
     },
     "execution_count": 154,
     "metadata": {},
     "output_type": "execute_result"
    }
   ],
   "source": [
    "ep"
   ]
  }
 ],
 "metadata": {
  "kernelspec": {
   "display_name": "Python 3.9.15 ('cee240venv': venv)",
   "language": "python",
   "name": "python3"
  },
  "language_info": {
   "codemirror_mode": {
    "name": "ipython",
    "version": 3
   },
   "file_extension": ".py",
   "mimetype": "text/x-python",
   "name": "python",
   "nbconvert_exporter": "python",
   "pygments_lexer": "ipython3",
   "version": "3.9.15"
  },
  "orig_nbformat": 4,
  "vscode": {
   "interpreter": {
    "hash": "108be5293efb78f5c68d36bcaf04a6ab425d5c7c567eba55933326b0c1d273fd"
   }
  }
 },
 "nbformat": 4,
 "nbformat_minor": 2
}
