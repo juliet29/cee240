{
 "cells": [
  {
   "cell_type": "code",
   "execution_count": 2,
   "metadata": {},
   "outputs": [],
   "source": [
    "from pint import UnitRegistry\n"
   ]
  },
  {
   "cell_type": "code",
   "execution_count": 3,
   "metadata": {},
   "outputs": [],
   "source": [
    "u = UnitRegistry()\n",
    "ft = u.feet\n",
    "inc = u.inches"
   ]
  },
  {
   "cell_type": "code",
   "execution_count": 10,
   "metadata": {},
   "outputs": [],
   "source": [
    "class ComponentReportClass:\n",
    "    def __init__(self, depth, length, width):\n",
    "        self.depth = depth\n",
    "        self.length = length\n",
    "        self.width = width \n",
    "    # dimensional calcs   \n",
    "    def calc_volume(self):\n",
    "        return (self.depth).to(\"yards\") * (self.width).to(\"yards\") * (self.length).to(\"yards\")\n",
    "    def calc_top_face_area(self):\n",
    "        return self.length * self.width \n",
    "    def calc_sides_face_area(self):\n",
    "        return 2 * (self.depth * self.width ) + 2 * (self.depth * self.length )\n",
    "    # conversion calcs\n",
    "    def to_cubic_yards(a):\n",
    "        return a/27\n",
    "\n",
    "    # work calcs\n",
    "    def calc_subgrade_prep(self):\n",
    "        bottom = self.calc_top_face_area()\n",
    "        sides = self.calc_sides_face_area()\n",
    "        return bottom + sides\n",
    "    def calc_formwork(self):\n",
    "        return self.calc_sides_face_area()\n",
    "    def calc_excavation(self):\n",
    "        # TODO add benching...\n",
    "        return self.calc_volume()\n",
    "    def calc_concrete(self):\n",
    "        return self.calc_volume()* 1.08\n",
    "    # reports\n",
    "    def report_basic(self):\n",
    "        report = {\n",
    "            \"subgrade\": self.calc_subgrade_prep(),\n",
    "            \"formwork\": self.calc_formwork(),\n",
    "            \"excavation\": self.calc_excavation(),\n",
    "            \"concrete\": self.calc_concrete()\n",
    "        }\n",
    "        return report \n",
    "\n",
    "\n",
    "    "
   ]
  },
  {
   "cell_type": "code",
   "execution_count": 30,
   "metadata": {},
   "outputs": [],
   "source": [
    "def calc_component_totals(components, fx):\n",
    "    \"\"\"components are defined components\n",
    "    fx is a function that takes in a list of components \"\"\"\n",
    "    c_reports = [c.report_basic() for c in components]\n",
    "\n",
    "    sum_components = {}\n",
    "    for k in c_reports[0].keys():\n",
    "        sum_components[k] = fx(c_reports, k)\n",
    "\n",
    "    return sum_components"
   ]
  },
  {
   "cell_type": "code",
   "execution_count": 33,
   "metadata": {},
   "outputs": [
    {
     "data": {
      "text/plain": [
       "{'subgrade': 428.4166666666667 <Unit('foot ** 2')>,\n",
       " 'formwork': 216.16666666666669 <Unit('foot ** 2')>,\n",
       " 'excavation': 20.729166666666664 <Unit('yard ** 3')>,\n",
       " 'concrete': 22.3875 <Unit('yard ** 3')>}"
      ]
     },
     "execution_count": 33,
     "metadata": {},
     "output_type": "execute_result"
    }
   ],
   "source": [
    "# pile caps \n",
    "pc1 = ComponentReportClass(2*ft, 4*ft, 4*ft) # reported in ft!\n",
    "\n",
    "pc2 = ComponentReportClass(2*ft + 9*inc, \n",
    "                            17*ft + 2*inc, \n",
    "                            10*ft + 6*inc) \n",
    "def fx(l, k):\n",
    "   return 2*l[0][k] + l[1][k]\n",
    "\n",
    "calc_component_totals([pc1, pc2], fx)"
   ]
  }
 ],
 "metadata": {
  "kernelspec": {
   "display_name": "Python 3.9.15 ('cee240venv': venv)",
   "language": "python",
   "name": "python3"
  },
  "language_info": {
   "codemirror_mode": {
    "name": "ipython",
    "version": 3
   },
   "file_extension": ".py",
   "mimetype": "text/x-python",
   "name": "python",
   "nbconvert_exporter": "python",
   "pygments_lexer": "ipython3",
   "version": "3.9.15"
  },
  "orig_nbformat": 4,
  "vscode": {
   "interpreter": {
    "hash": "108be5293efb78f5c68d36bcaf04a6ab425d5c7c567eba55933326b0c1d273fd"
   }
  }
 },
 "nbformat": 4,
 "nbformat_minor": 2
}
