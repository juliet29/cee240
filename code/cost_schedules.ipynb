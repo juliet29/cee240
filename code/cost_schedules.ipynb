{
 "cells": [
  {
   "cell_type": "code",
   "execution_count": 46,
   "metadata": {},
   "outputs": [],
   "source": [
    "import pandas as pd\n",
    "import numpy as np\n",
    "from icecream import ic"
   ]
  },
  {
   "cell_type": "code",
   "execution_count": 47,
   "metadata": {},
   "outputs": [],
   "source": [
    "PATH = \"../../../Documents/ClassDocs/cee240Docs/p6/CEE240F22_Nov18.xlsx\"\n"
   ]
  },
  {
   "cell_type": "code",
   "execution_count": 48,
   "metadata": {},
   "outputs": [],
   "source": [
    "# import most recent excel files\n",
    "# get all before march\n",
    "# get all during march \n",
    "# find percentages "
   ]
  },
  {
   "cell_type": "markdown",
   "metadata": {},
   "source": [
    "# import data"
   ]
  },
  {
   "cell_type": "code",
   "execution_count": 49,
   "metadata": {},
   "outputs": [
    {
     "name": "stderr",
     "output_type": "stream",
     "text": [
      "/Users/julietnwagwuume-ezeoke/ClassCode/CEE240local/cee240env/lib/python3.9/site-packages/openpyxl/styles/stylesheet.py:226: UserWarning: Workbook contains no default style, apply openpyxl's default\n",
      "  warn(\"Workbook contains no default style, apply openpyxl's default\")\n"
     ]
    },
    {
     "data": {
      "text/html": [
       "<div>\n",
       "<style scoped>\n",
       "    .dataframe tbody tr th:only-of-type {\n",
       "        vertical-align: middle;\n",
       "    }\n",
       "\n",
       "    .dataframe tbody tr th {\n",
       "        vertical-align: top;\n",
       "    }\n",
       "\n",
       "    .dataframe thead th {\n",
       "        text-align: right;\n",
       "    }\n",
       "</style>\n",
       "<table border=\"1\" class=\"dataframe\">\n",
       "  <thead>\n",
       "    <tr style=\"text-align: right;\">\n",
       "      <th></th>\n",
       "      <th>start_date</th>\n",
       "      <th>end_date</th>\n",
       "      <th>task_name</th>\n",
       "      <th>duration</th>\n",
       "      <th>float</th>\n",
       "      <th>task_code</th>\n",
       "    </tr>\n",
       "  </thead>\n",
       "  <tbody>\n",
       "    <tr>\n",
       "      <th>0</th>\n",
       "      <td>2022-09-01 08:00:00</td>\n",
       "      <td>NaT</td>\n",
       "      <td>NTP</td>\n",
       "      <td>0</td>\n",
       "      <td>0</td>\n",
       "      <td>P1B1000</td>\n",
       "    </tr>\n",
       "    <tr>\n",
       "      <th>1</th>\n",
       "      <td>2022-09-01 08:00:00</td>\n",
       "      <td>2022-09-01 16:00:00</td>\n",
       "      <td>submit shut down request for facilities</td>\n",
       "      <td>1</td>\n",
       "      <td>0</td>\n",
       "      <td>P1B1010</td>\n",
       "    </tr>\n",
       "    <tr>\n",
       "      <th>2</th>\n",
       "      <td>2022-09-02 08:00:00</td>\n",
       "      <td>2022-09-05 16:00:00</td>\n",
       "      <td>demo ceilings  GL 6.5, M.4</td>\n",
       "      <td>2</td>\n",
       "      <td>310</td>\n",
       "      <td>P1B1020</td>\n",
       "    </tr>\n",
       "  </tbody>\n",
       "</table>\n",
       "</div>"
      ],
      "text/plain": [
       "           start_date            end_date  \\\n",
       "0 2022-09-01 08:00:00                 NaT   \n",
       "1 2022-09-01 08:00:00 2022-09-01 16:00:00   \n",
       "2 2022-09-02 08:00:00 2022-09-05 16:00:00   \n",
       "\n",
       "                                 task_name  duration  float task_code  \n",
       "0                                      NTP         0      0   P1B1000  \n",
       "1  submit shut down request for facilities         1      0   P1B1010  \n",
       "2               demo ceilings  GL 6.5, M.4         2    310   P1B1020  "
      ]
     },
     "execution_count": 49,
     "metadata": {},
     "output_type": "execute_result"
    }
   ],
   "source": [
    "df = pd.read_excel(PATH, sheet_name=0, engine=\"openpyxl\", skiprows=[1] )\n",
    "# rename columns to be easier to access\n",
    "df.rename(columns={\"target_drtn_hr_cnt\": \"duration\", \"total_float_hr_cnt\": \"float\"}, inplace=True)\n",
    "\n",
    "df.drop([\n",
    " 'status_code',\n",
    " 'wbs_id', \n",
    " 'delete_record_flag'], \n",
    " axis=1, inplace=True)\n",
    "df = df[['start_date', 'end_date', 'task_name', 'duration', 'float', 'task_code']]\n",
    "\n",
    "df.head(3)"
   ]
  },
  {
   "cell_type": "markdown",
   "metadata": {},
   "source": [
    "## make appropriate dfs"
   ]
  },
  {
   "cell_type": "code",
   "execution_count": 50,
   "metadata": {},
   "outputs": [],
   "source": [
    "mar23_start = pd.to_datetime(\"2023/03/01\")\n",
    "mar23_end = pd.to_datetime(\"2023/04/01\")"
   ]
  },
  {
   "cell_type": "code",
   "execution_count": 51,
   "metadata": {},
   "outputs": [
    {
     "data": {
      "text/html": [
       "<div>\n",
       "<style scoped>\n",
       "    .dataframe tbody tr th:only-of-type {\n",
       "        vertical-align: middle;\n",
       "    }\n",
       "\n",
       "    .dataframe tbody tr th {\n",
       "        vertical-align: top;\n",
       "    }\n",
       "\n",
       "    .dataframe thead th {\n",
       "        text-align: right;\n",
       "    }\n",
       "</style>\n",
       "<table border=\"1\" class=\"dataframe\">\n",
       "  <thead>\n",
       "    <tr style=\"text-align: right;\">\n",
       "      <th></th>\n",
       "      <th>start_date</th>\n",
       "      <th>end_date</th>\n",
       "      <th>task_name</th>\n",
       "      <th>duration</th>\n",
       "      <th>float</th>\n",
       "      <th>task_code</th>\n",
       "    </tr>\n",
       "  </thead>\n",
       "  <tbody>\n",
       "    <tr>\n",
       "      <th>0</th>\n",
       "      <td>2022-09-01 08:00:00</td>\n",
       "      <td>2022-09-01 16:00:00</td>\n",
       "      <td>submit shut down request for facilities</td>\n",
       "      <td>1</td>\n",
       "      <td>0</td>\n",
       "      <td>P1B1010</td>\n",
       "    </tr>\n",
       "    <tr>\n",
       "      <th>1</th>\n",
       "      <td>2022-09-02 08:00:00</td>\n",
       "      <td>2022-09-05 16:00:00</td>\n",
       "      <td>demo ceilings  GL 6.5, M.4</td>\n",
       "      <td>2</td>\n",
       "      <td>310</td>\n",
       "      <td>P1B1020</td>\n",
       "    </tr>\n",
       "    <tr>\n",
       "      <th>2</th>\n",
       "      <td>2022-09-15 08:00:00</td>\n",
       "      <td>2022-09-19 16:00:00</td>\n",
       "      <td>erect temp barrier, GL 6.5, M.4</td>\n",
       "      <td>3</td>\n",
       "      <td>0</td>\n",
       "      <td>P1B1030</td>\n",
       "    </tr>\n",
       "    <tr>\n",
       "      <th>3</th>\n",
       "      <td>2022-09-20 08:00:00</td>\n",
       "      <td>2022-09-22 16:00:00</td>\n",
       "      <td>demo exterior walls  GL 5.7 M</td>\n",
       "      <td>3</td>\n",
       "      <td>0</td>\n",
       "      <td>P1B1040</td>\n",
       "    </tr>\n",
       "    <tr>\n",
       "      <th>4</th>\n",
       "      <td>2022-09-23 08:00:00</td>\n",
       "      <td>2022-09-27 16:00:00</td>\n",
       "      <td>demo interior walls  GL 5.7 - 7.1 M.4</td>\n",
       "      <td>3</td>\n",
       "      <td>0</td>\n",
       "      <td>P1B1050</td>\n",
       "    </tr>\n",
       "    <tr>\n",
       "      <th>...</th>\n",
       "      <td>...</td>\n",
       "      <td>...</td>\n",
       "      <td>...</td>\n",
       "      <td>...</td>\n",
       "      <td>...</td>\n",
       "      <td>...</td>\n",
       "    </tr>\n",
       "    <tr>\n",
       "      <th>90</th>\n",
       "      <td>2023-01-13 08:00:00</td>\n",
       "      <td>2023-01-18 16:00:00</td>\n",
       "      <td>install cieling finsihes 1L, Sector A</td>\n",
       "      <td>4</td>\n",
       "      <td>210</td>\n",
       "      <td>P2A1L1130</td>\n",
       "    </tr>\n",
       "    <tr>\n",
       "      <th>91</th>\n",
       "      <td>2023-01-19 08:00:00</td>\n",
       "      <td>2023-01-23 16:00:00</td>\n",
       "      <td>testing and commissioning 1L, Sector A</td>\n",
       "      <td>3</td>\n",
       "      <td>210</td>\n",
       "      <td>P2A1L1140</td>\n",
       "    </tr>\n",
       "    <tr>\n",
       "      <th>92</th>\n",
       "      <td>NaT</td>\n",
       "      <td>2023-02-01 08:00:00</td>\n",
       "      <td>Staff Relocation (A_L1)</td>\n",
       "      <td>0</td>\n",
       "      <td>0</td>\n",
       "      <td>M1010</td>\n",
       "    </tr>\n",
       "    <tr>\n",
       "      <th>93</th>\n",
       "      <td>2022-11-22 08:00:00</td>\n",
       "      <td>2022-11-28 16:00:00</td>\n",
       "      <td>Begin MEPF Start Up</td>\n",
       "      <td>5</td>\n",
       "      <td>250</td>\n",
       "      <td>M2030</td>\n",
       "    </tr>\n",
       "    <tr>\n",
       "      <th>94</th>\n",
       "      <td>2022-12-07 08:00:00</td>\n",
       "      <td>2022-12-07 08:00:00</td>\n",
       "      <td>wait until New Main Connector occupancy 1L, Se...</td>\n",
       "      <td>0</td>\n",
       "      <td>244</td>\n",
       "      <td>P2A1L1000</td>\n",
       "    </tr>\n",
       "  </tbody>\n",
       "</table>\n",
       "<p>95 rows × 6 columns</p>\n",
       "</div>"
      ],
      "text/plain": [
       "            start_date            end_date  \\\n",
       "0  2022-09-01 08:00:00 2022-09-01 16:00:00   \n",
       "1  2022-09-02 08:00:00 2022-09-05 16:00:00   \n",
       "2  2022-09-15 08:00:00 2022-09-19 16:00:00   \n",
       "3  2022-09-20 08:00:00 2022-09-22 16:00:00   \n",
       "4  2022-09-23 08:00:00 2022-09-27 16:00:00   \n",
       "..                 ...                 ...   \n",
       "90 2023-01-13 08:00:00 2023-01-18 16:00:00   \n",
       "91 2023-01-19 08:00:00 2023-01-23 16:00:00   \n",
       "92                 NaT 2023-02-01 08:00:00   \n",
       "93 2022-11-22 08:00:00 2022-11-28 16:00:00   \n",
       "94 2022-12-07 08:00:00 2022-12-07 08:00:00   \n",
       "\n",
       "                                            task_name  duration  float  \\\n",
       "0             submit shut down request for facilities         1      0   \n",
       "1                          demo ceilings  GL 6.5, M.4         2    310   \n",
       "2                     erect temp barrier, GL 6.5, M.4         3      0   \n",
       "3                       demo exterior walls  GL 5.7 M         3      0   \n",
       "4               demo interior walls  GL 5.7 - 7.1 M.4         3      0   \n",
       "..                                                ...       ...    ...   \n",
       "90              install cieling finsihes 1L, Sector A         4    210   \n",
       "91             testing and commissioning 1L, Sector A         3    210   \n",
       "92                            Staff Relocation (A_L1)         0      0   \n",
       "93                                Begin MEPF Start Up         5    250   \n",
       "94  wait until New Main Connector occupancy 1L, Se...         0    244   \n",
       "\n",
       "    task_code  \n",
       "0     P1B1010  \n",
       "1     P1B1020  \n",
       "2     P1B1030  \n",
       "3     P1B1040  \n",
       "4     P1B1050  \n",
       "..        ...  \n",
       "90  P2A1L1130  \n",
       "91  P2A1L1140  \n",
       "92      M1010  \n",
       "93      M2030  \n",
       "94  P2A1L1000  \n",
       "\n",
       "[95 rows x 6 columns]"
      ]
     },
     "execution_count": 51,
     "metadata": {},
     "output_type": "execute_result"
    }
   ],
   "source": [
    "df_mar_start = df[df[\"end_date\"] < mar23_start].reset_index(drop=True)\n",
    "df_mar_start"
   ]
  },
  {
   "cell_type": "code",
   "execution_count": 52,
   "metadata": {},
   "outputs": [
    {
     "data": {
      "text/html": [
       "<div>\n",
       "<style scoped>\n",
       "    .dataframe tbody tr th:only-of-type {\n",
       "        vertical-align: middle;\n",
       "    }\n",
       "\n",
       "    .dataframe tbody tr th {\n",
       "        vertical-align: top;\n",
       "    }\n",
       "\n",
       "    .dataframe thead th {\n",
       "        text-align: right;\n",
       "    }\n",
       "</style>\n",
       "<table border=\"1\" class=\"dataframe\">\n",
       "  <thead>\n",
       "    <tr style=\"text-align: right;\">\n",
       "      <th></th>\n",
       "      <th>start_date</th>\n",
       "      <th>end_date</th>\n",
       "      <th>task_name</th>\n",
       "      <th>duration</th>\n",
       "      <th>float</th>\n",
       "      <th>task_code</th>\n",
       "    </tr>\n",
       "  </thead>\n",
       "  <tbody>\n",
       "    <tr>\n",
       "      <th>0</th>\n",
       "      <td>2023-02-27 08:00:00</td>\n",
       "      <td>2023-03-02 16:00:00</td>\n",
       "      <td>erect columns 2L, Sector B</td>\n",
       "      <td>4</td>\n",
       "      <td>0</td>\n",
       "      <td>P1B1440</td>\n",
       "    </tr>\n",
       "    <tr>\n",
       "      <th>1</th>\n",
       "      <td>2023-03-03 08:00:00</td>\n",
       "      <td>2023-03-08 16:00:00</td>\n",
       "      <td>erect steel deck 3L, Sector B</td>\n",
       "      <td>4</td>\n",
       "      <td>0</td>\n",
       "      <td>P1B1450</td>\n",
       "    </tr>\n",
       "    <tr>\n",
       "      <th>2</th>\n",
       "      <td>2023-03-09 08:00:00</td>\n",
       "      <td>2023-03-28 16:00:00</td>\n",
       "      <td>curtain wall GL, Sector B</td>\n",
       "      <td>14</td>\n",
       "      <td>3</td>\n",
       "      <td>P1B1460</td>\n",
       "    </tr>\n",
       "    <tr>\n",
       "      <th>3</th>\n",
       "      <td>2023-03-09 08:00:00</td>\n",
       "      <td>2023-03-28 16:00:00</td>\n",
       "      <td>curtain wall 1L, Sector B</td>\n",
       "      <td>14</td>\n",
       "      <td>0</td>\n",
       "      <td>P1B1470</td>\n",
       "    </tr>\n",
       "    <tr>\n",
       "      <th>4</th>\n",
       "      <td>2023-03-09 08:00:00</td>\n",
       "      <td>2023-03-28 16:00:00</td>\n",
       "      <td>curtain wall 2L, Sector B</td>\n",
       "      <td>14</td>\n",
       "      <td>3</td>\n",
       "      <td>P1B1480</td>\n",
       "    </tr>\n",
       "    <tr>\n",
       "      <th>5</th>\n",
       "      <td>2023-03-29 08:00:00</td>\n",
       "      <td>2023-03-31 16:00:00</td>\n",
       "      <td>erect temp barrier, west of new main connector...</td>\n",
       "      <td>3</td>\n",
       "      <td>3</td>\n",
       "      <td>P1B1490</td>\n",
       "    </tr>\n",
       "    <tr>\n",
       "      <th>6</th>\n",
       "      <td>2023-03-29 08:00:00</td>\n",
       "      <td>2023-03-31 16:00:00</td>\n",
       "      <td>erect temp barrier, west of new main connector...</td>\n",
       "      <td>3</td>\n",
       "      <td>0</td>\n",
       "      <td>P1B1500</td>\n",
       "    </tr>\n",
       "  </tbody>\n",
       "</table>\n",
       "</div>"
      ],
      "text/plain": [
       "           start_date            end_date  \\\n",
       "0 2023-02-27 08:00:00 2023-03-02 16:00:00   \n",
       "1 2023-03-03 08:00:00 2023-03-08 16:00:00   \n",
       "2 2023-03-09 08:00:00 2023-03-28 16:00:00   \n",
       "3 2023-03-09 08:00:00 2023-03-28 16:00:00   \n",
       "4 2023-03-09 08:00:00 2023-03-28 16:00:00   \n",
       "5 2023-03-29 08:00:00 2023-03-31 16:00:00   \n",
       "6 2023-03-29 08:00:00 2023-03-31 16:00:00   \n",
       "\n",
       "                                           task_name  duration  float  \\\n",
       "0                         erect columns 2L, Sector B         4      0   \n",
       "1                      erect steel deck 3L, Sector B         4      0   \n",
       "2                          curtain wall GL, Sector B        14      3   \n",
       "3                          curtain wall 1L, Sector B        14      0   \n",
       "4                          curtain wall 2L, Sector B        14      3   \n",
       "5  erect temp barrier, west of new main connector...         3      3   \n",
       "6  erect temp barrier, west of new main connector...         3      0   \n",
       "\n",
       "  task_code  \n",
       "0   P1B1440  \n",
       "1   P1B1450  \n",
       "2   P1B1460  \n",
       "3   P1B1470  \n",
       "4   P1B1480  \n",
       "5   P1B1490  \n",
       "6   P1B1500  "
      ]
     },
     "execution_count": 52,
     "metadata": {},
     "output_type": "execute_result"
    }
   ],
   "source": [
    "df_mar_end = df[(df[\"end_date\"] >= mar23_start) &  (df[\"end_date\"] < mar23_end)].reset_index(drop=True)\n",
    "df_mar_end"
   ]
  },
  {
   "cell_type": "markdown",
   "metadata": {},
   "source": [
    "# find percentages"
   ]
  },
  {
   "cell_type": "code",
   "execution_count": 54,
   "metadata": {},
   "outputs": [],
   "source": [
    "# list(df[\"task_name\"])"
   ]
  },
  {
   "cell_type": "code",
   "execution_count": 9,
   "metadata": {},
   "outputs": [],
   "source": [
    "# also enter general requirements, temporary construction, and indirect cost of work "
   ]
  },
  {
   "cell_type": "markdown",
   "metadata": {},
   "source": [
    "## import work descriptions"
   ]
  },
  {
   "cell_type": "code",
   "execution_count": 10,
   "metadata": {},
   "outputs": [],
   "source": [
    "from cost_categories import cd"
   ]
  },
  {
   "cell_type": "code",
   "execution_count": 22,
   "metadata": {},
   "outputs": [],
   "source": [
    "cid = {} # category index dict\n",
    "for k,v in cd.items():\n",
    "    # iterate over list in v, find all rows in dataframe that match...\n",
    "    arr = []\n",
    "    if type(v) != int:\n",
    "        for i in v:\n",
    "            v_ix = list(df.loc[df[\"task_name\"].str.contains(i)].index)\n",
    "            arr.extend(v_ix)\n",
    "        cid[k] = list(arr)\n",
    "    else:\n",
    "        cid[k] = []"
   ]
  },
  {
   "cell_type": "code",
   "execution_count": 23,
   "metadata": {},
   "outputs": [
    {
     "data": {
      "text/plain": [
       "[38, 43, 24]"
      ]
     },
     "execution_count": 23,
     "metadata": {},
     "output_type": "execute_result"
    }
   ],
   "source": [
    "# determine total durations \n",
    "cid[\"BP 1A Structural Concrete\"]"
   ]
  },
  {
   "cell_type": "code",
   "execution_count": 63,
   "metadata": {},
   "outputs": [
    {
     "data": {
      "text/plain": [
       "20"
      ]
     },
     "execution_count": 63,
     "metadata": {},
     "output_type": "execute_result"
    }
   ],
   "source": [
    "df.iloc[cid[\"BP 1A Structural Concrete\"]][\"duration\"].sum()"
   ]
  },
  {
   "cell_type": "code",
   "execution_count": 66,
   "metadata": {},
   "outputs": [
    {
     "data": {
      "text/plain": [
       "20"
      ]
     },
     "execution_count": 66,
     "metadata": {},
     "output_type": "execute_result"
    }
   ],
   "source": [
    "pd.merge(df.iloc[cid[\"BP 1A Structural Concrete\"]], df_mar_start, on=['task_code'], how='inner')[\"duration_x\"].sum()"
   ]
  },
  {
   "cell_type": "code",
   "execution_count": 65,
   "metadata": {},
   "outputs": [
    {
     "data": {
      "text/plain": [
       "0"
      ]
     },
     "execution_count": 65,
     "metadata": {},
     "output_type": "execute_result"
    }
   ],
   "source": [
    "pd.merge(df.iloc[cid[\"BP 1A Structural Concrete\"]], df_mar_end, on=['task_code'], how='inner')[\"duration_x\"].sum()"
   ]
  },
  {
   "cell_type": "code",
   "execution_count": 57,
   "metadata": {},
   "outputs": [
    {
     "ename": "ValueError",
     "evalue": "Can only compare identically-labeled Series objects",
     "output_type": "error",
     "traceback": [
      "\u001b[0;31m---------------------------------------------------------------------------\u001b[0m",
      "\u001b[0;31mValueError\u001b[0m                                Traceback (most recent call last)",
      "Cell \u001b[0;32mIn [57], line 1\u001b[0m\n\u001b[0;32m----> 1\u001b[0m df_mar_start\u001b[39m.\u001b[39miloc[df_mar_start[\u001b[39m\"\u001b[39;49m\u001b[39mtask_code\u001b[39;49m\u001b[39m\"\u001b[39;49m] \u001b[39m==\u001b[39;49m df\u001b[39m.\u001b[39;49miloc[cid[\u001b[39m\"\u001b[39;49m\u001b[39mBP 1A Structural Concrete\u001b[39;49m\u001b[39m\"\u001b[39;49m]]\u001b[39m.\u001b[39;49mtask_code]\n",
      "File \u001b[0;32m~/ClassCode/CEE240local/cee240env/lib/python3.9/site-packages/pandas/core/ops/common.py:72\u001b[0m, in \u001b[0;36m_unpack_zerodim_and_defer.<locals>.new_method\u001b[0;34m(self, other)\u001b[0m\n\u001b[1;32m     68\u001b[0m             \u001b[39mreturn\u001b[39;00m \u001b[39mNotImplemented\u001b[39m\n\u001b[1;32m     70\u001b[0m other \u001b[39m=\u001b[39m item_from_zerodim(other)\n\u001b[0;32m---> 72\u001b[0m \u001b[39mreturn\u001b[39;00m method(\u001b[39mself\u001b[39;49m, other)\n",
      "File \u001b[0;32m~/ClassCode/CEE240local/cee240env/lib/python3.9/site-packages/pandas/core/arraylike.py:42\u001b[0m, in \u001b[0;36mOpsMixin.__eq__\u001b[0;34m(self, other)\u001b[0m\n\u001b[1;32m     40\u001b[0m \u001b[39m@unpack_zerodim_and_defer\u001b[39m(\u001b[39m\"\u001b[39m\u001b[39m__eq__\u001b[39m\u001b[39m\"\u001b[39m)\n\u001b[1;32m     41\u001b[0m \u001b[39mdef\u001b[39;00m \u001b[39m__eq__\u001b[39m(\u001b[39mself\u001b[39m, other):\n\u001b[0;32m---> 42\u001b[0m     \u001b[39mreturn\u001b[39;00m \u001b[39mself\u001b[39;49m\u001b[39m.\u001b[39;49m_cmp_method(other, operator\u001b[39m.\u001b[39;49meq)\n",
      "File \u001b[0;32m~/ClassCode/CEE240local/cee240env/lib/python3.9/site-packages/pandas/core/series.py:6237\u001b[0m, in \u001b[0;36mSeries._cmp_method\u001b[0;34m(self, other, op)\u001b[0m\n\u001b[1;32m   6234\u001b[0m res_name \u001b[39m=\u001b[39m ops\u001b[39m.\u001b[39mget_op_result_name(\u001b[39mself\u001b[39m, other)\n\u001b[1;32m   6236\u001b[0m \u001b[39mif\u001b[39;00m \u001b[39misinstance\u001b[39m(other, Series) \u001b[39mand\u001b[39;00m \u001b[39mnot\u001b[39;00m \u001b[39mself\u001b[39m\u001b[39m.\u001b[39m_indexed_same(other):\n\u001b[0;32m-> 6237\u001b[0m     \u001b[39mraise\u001b[39;00m \u001b[39mValueError\u001b[39;00m(\u001b[39m\"\u001b[39m\u001b[39mCan only compare identically-labeled Series objects\u001b[39m\u001b[39m\"\u001b[39m)\n\u001b[1;32m   6239\u001b[0m lvalues \u001b[39m=\u001b[39m \u001b[39mself\u001b[39m\u001b[39m.\u001b[39m_values\n\u001b[1;32m   6240\u001b[0m rvalues \u001b[39m=\u001b[39m extract_array(other, extract_numpy\u001b[39m=\u001b[39m\u001b[39mTrue\u001b[39;00m, extract_range\u001b[39m=\u001b[39m\u001b[39mTrue\u001b[39;00m)\n",
      "\u001b[0;31mValueError\u001b[0m: Can only compare identically-labeled Series objects"
     ]
    }
   ],
   "source": [
    "df_mar_start.iloc[df_mar_start[\"task_code\"] == df.iloc[cid[\"BP 1A Structural Concrete\"]].task_code]"
   ]
  }
 ],
 "metadata": {
  "kernelspec": {
   "display_name": "Python 3.9.15 ('cee240env': venv)",
   "language": "python",
   "name": "python3"
  },
  "language_info": {
   "codemirror_mode": {
    "name": "ipython",
    "version": 3
   },
   "file_extension": ".py",
   "mimetype": "text/x-python",
   "name": "python",
   "nbconvert_exporter": "python",
   "pygments_lexer": "ipython3",
   "version": "3.9.15"
  },
  "orig_nbformat": 4,
  "vscode": {
   "interpreter": {
    "hash": "e9bae61aeb1d63fa63cc1ea2007ad84818b43d38f9c77c9d5d28d2ab067872af"
   }
  }
 },
 "nbformat": 4,
 "nbformat_minor": 2
}
